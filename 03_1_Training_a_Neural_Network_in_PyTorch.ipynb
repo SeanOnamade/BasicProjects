{
  "cells": [
    {
      "cell_type": "markdown",
      "metadata": {
        "id": "view-in-github",
        "colab_type": "text"
      },
      "source": [
        "<a href=\"https://colab.research.google.com/github/SeanOnamade/BasicProjects/blob/main/03_1_Training_a_Neural_Network_in_PyTorch.ipynb\" target=\"_parent\"><img src=\"https://colab.research.google.com/assets/colab-badge.svg\" alt=\"Open In Colab\"/></a>"
      ]
    },
    {
      "cell_type": "markdown",
      "id": "32a3e8c0",
      "metadata": {
        "collapsed": false,
        "jupyter": {
          "outputs_hidden": false
        },
        "pycharm": {
          "name": "#%% md\n"
        },
        "id": "32a3e8c0"
      },
      "source": [
        "# Training a small neural network in PyTorch\n",
        "\n",
        "The aim of this notebook is to demonstrate how to train a small neural network in PyTorch using a toy example.\n",
        "\n",
        "We'll start off by covering some of the basic building blocks of the training routine: (auto) differentiation, loss functions, optimisation. After introducing these concepts we'll put them together in a simple training routine.\n",
        "\n",
        "**Table of Contents**\n",
        "1. [Neural Network Building Blocks](#nn_building_blocks)\n",
        "2. [Lightweight Training Routine](#training_loop)\n",
        "3. [Conclusion](#conclusion)"
      ]
    },
    {
      "cell_type": "markdown",
      "id": "105b777b-f9c4-42a4-9532-130e72b48828",
      "metadata": {
        "id": "105b777b-f9c4-42a4-9532-130e72b48828"
      },
      "source": [
        "## <a name=\"nn_building_blocks\"> 1. Neural Network Building Blocks</a>\n",
        "\n",
        "Before getting into a simple training loop, we'll cover some of the core components required for neural networks to learn representations of data and before we dive into the theory we'll contextualise some of how neural networks learn using an example."
      ]
    },
    {
      "cell_type": "markdown",
      "id": "5fea0ddd-bdf6-42ce-b8fc-b5400a39b381",
      "metadata": {
        "id": "5fea0ddd-bdf6-42ce-b8fc-b5400a39b381"
      },
      "source": [
        "### Training Components\n",
        "Before diving into the below content, I highly recommend watching 3blue1brown's [lesson](https://www.3blue1brown.com/lessons/gradient-descent) gradient descent. The video and accompanying blog are an excellent resource and many of the images below are sourced from the blog. Before we dive into the theory, consider the below example that feeds a 28x28 image into a simple linear neural network. The pixels in the image are unrolled into an input array (tensor) of size 784 (28 x 28).\n",
        "\n",
        "![example_net](./resources/simple-torch/net_example.png)\n",
        "\n",
        "Before training the network, it's possible to receive predictions but the weights of the neural network have been randomly initialised and so the output will be garbage. You can see this in the above image where the brighter weight circles represent higher values and in the final output layer the model has no idea which number the input represents.\n",
        "\n",
        "Backpropagation is the primary algorithm used to train neural networks. It's outside the scope of this intro tutorial to dive into the weeds of how backpropagation works but [3blue1brown](https://www.3blue1brown.com/lessons/backpropagation) comes to our rescue again if you would like to dig a little deeper on backprop. Backprop works by calculating the error between the predicted output and the actual output and propagating this error back through the neural network from the last layer to the first. Backprop calculates the gradient of the loss function with respect to each weight in the network using basic calculus techniques like the chain rule. These gradients indicate how much each weight contributed to the error and these weights are then adjusted to attempt to minimise the error on the next forward pass."
      ]
    },
    {
      "cell_type": "markdown",
      "id": "d7e979b6-a87c-4b0b-a9a1-17276ae988e0",
      "metadata": {
        "id": "d7e979b6-a87c-4b0b-a9a1-17276ae988e0"
      },
      "source": [
        "#### Loss functions (also known as a Cost function)\n",
        "\n",
        "You might be wondering how the error in the backwards propagation step is calculated. This is where the loss function comes in, for a simple toy example we could consider the loss function to be the `loss = ((predictions - labels)**2).sum()`, or in plain english the sum of the squared deltas between predictions and actuals. PyTorch offers many [loss functions](https://pytorch.org/docs/stable/nn.html#loss-functions) for a variety of tasks so there is often no need to manually define how the loss is calculated.\n",
        "\n",
        "Let's contextualise this using the 3blue1brown example again. The image below shows the cost calculation for a single example. In this image we can see the cost calculation for a single input. During training this is calculated for many thousands of inputs.\n",
        "\n",
        "![cost_fn_example](./resources/simple-torch/cost_fn_example.png)\n",
        "\n",
        "Once this loss has been calculated it can be propagated back through the network by calling `loss.backward()`. Okay great, so we've calculated the error and propagated it back through the network so that it's stored in the NN tensors `.grad` parameter but how do we update the weights? That's where optimisation comes in."
      ]
    },
    {
      "cell_type": "markdown",
      "id": "6f185085-c934-4e6b-820e-54f817f631af",
      "metadata": {
        "id": "6f185085-c934-4e6b-820e-54f817f631af"
      },
      "source": [
        "#### Optimisers\n",
        "\n",
        "Optimisation is the step by which the weights (parameters) in the neural network are updated. The goal of the optimiser is typically to minimise the loss criteria by updating the model weights. Pytorch also provides many popular [optimisation algorithms](https://pytorch.org/docs/stable/optim.html#algorithms) but today we will focus on Stochastic Gradient Descent (SGD) which can be represented as follows:\n",
        "\n",
        "`weight = weight - learning_rate * gradient`\n",
        "\n",
        "Learning rate is an important parameter that is defined when you initialise your optimiser and as the name suggests it controls the rate at which the weights in your network are updated. Larger learning rates mean bigger updates to your network at each step which could lead to quicker convergence, too large a learning rate may make it difficult for your model to converge at all. Smaller learning rates make more iterative updates to your model weights but increase the number of training steps required, too small a learning rate could lead to your model getting stuck in a local minima. The following image is useful for visualising learning rate:\n",
        "\n",
        "![lr](./resources/simple-torch/learning-rate.png)"
      ]
    },
    {
      "cell_type": "markdown",
      "id": "73ff4ce2",
      "metadata": {
        "collapsed": false,
        "jp-MarkdownHeadingCollapsed": true,
        "jupyter": {
          "outputs_hidden": false
        },
        "pycharm": {
          "name": "#%% md\n"
        },
        "id": "73ff4ce2"
      },
      "source": [
        "#### Auto Differentiation\n",
        "\n",
        "Autodiff greatly simplifies the training process for developers by enabling efficient computation of the derivatives in the neural networks computational graph. Autodiff keeps track of all tensor operations during the forward pass to build the computational graph then during the backward pass the gradients of the loss function with respect to all tensors is computed using the chain rule.\n",
        "\n",
        "Pytorch's automatic differentiation engine is `torch.autograd` and it powers all neural network training in torch. Neural Networks are a collection of nested functions which takes in some input data and return an output tensor. The parameters of these functions are the weights and biases of the neural network. Training takes place in two steps:\n",
        "\n",
        "* __Forward propagation__: Input data is passed through each function in the Neural Network which the network uses to make it's best guess about the output data.\n",
        "    + __Inference__: During inference, only forward propagation is used.\n",
        "* __Backward propagation__:  In backprop, the NN adjusts its parameters proportionate to the error in its guess. It does this by traversing backwards from the output, collecting the derivatives of the error with respect to the parameters of the functions (gradients), and optimizing the parameters using gradient descent in a separate step.\n",
        "\n",
        "This is all we need to start training but if you want to read more about autograd or computation graphs you can check out the official PyTorch [tutorial](https://pytorch.org/tutorials/beginner/blitz/autograd_tutorial.html#differentiation-in-autograd)."
      ]
    },
    {
      "cell_type": "markdown",
      "id": "1a1a35ce",
      "metadata": {
        "collapsed": false,
        "jupyter": {
          "outputs_hidden": false
        },
        "pycharm": {
          "name": "#%% md\n"
        },
        "id": "1a1a35ce"
      },
      "source": [
        "## <a name=\"training_loop\">2. Neural Network Building Blocks</a>\n",
        "\n",
        "A typical training procedure for a neural network is as follows:\n",
        "\n",
        "* Define the neural network that has some learnable parameters (or weights)\n",
        "* Iterate over a dataset of inputs\n",
        "* Process input through the network\n",
        "* Compute the loss (how far is the output from being correct)\n",
        "* Propagate gradients back into the network’s parameters\n",
        "* Update the weights of the network, typically using a simple update rule: weight = weight - learning_rate * gradient\n",
        "\n",
        "Some additional nomenclature which is useful:\n",
        "\n",
        "* epoch: one pass through the entire training dataset\n",
        "* step: a single forward pass through the model (e.g., one batch size update)"
      ]
    },
    {
      "cell_type": "markdown",
      "id": "61b40181",
      "metadata": {
        "collapsed": false,
        "jupyter": {
          "outputs_hidden": false
        },
        "pycharm": {
          "name": "#%% md\n"
        },
        "id": "61b40181"
      },
      "source": [
        "### 2.a Defining the dataset and problem\n",
        "\n",
        "So for this tutorial we will use the [CIFAR-10](https://www.cs.toronto.edu/~kriz/cifar.html) dataset available through torchvision.The CIFAR-10 dataset was collected and released by researchers at the University of Toronto and contains 60,000 32x32 images separate into 10 different classes. The classes in this case are different real world objects: airplane, automobile, bird, cat, deer, dog, frog, horse, ship and truck. We hope that by training our neural network it will learn to take the pixels of the image as input and predict the correct class.\n",
        "\n",
        "Much of the code is borrowed from the [Training A Classifier](https://pytorch.org/tutorials/beginner/blitz/cifar10_tutorial.html) tutorial available on PyTorch's website. Using this dataset simplifies some of the manual processing required to get our data ready for training.\n",
        "\n",
        "In the below code block, there are a number of important steps to note:\n",
        "\n",
        "* First a set of transforms are defined that will be applied to training data.\n",
        "    + `transforms.Compose` takes a list of pre-defined transformations that will be applied to each image in the dataset.\n",
        "    + We define two transforms: `ToTensor` which converts arrays to tensors and `Normalize` which normalises the RGB values of the images\n",
        "* Next we define a `batch_size` which is the number of images that will be passed to the neural network `for` each training step.\n",
        "* Then we load the CIFAR10 datasets for training and testing and pass them to a DataLoader with `batch_size`\n",
        "    + `DataLoader`s provide convenient functionality for looping over each batch of images in the training data\n",
        "* Finally we define the class names\n"
      ]
    },
    {
      "cell_type": "code",
      "execution_count": null,
      "id": "a1c072c3",
      "metadata": {
        "execution": {
          "iopub.execute_input": "2024-03-26T17:42:16.675250Z",
          "iopub.status.busy": "2024-03-26T17:42:16.675017Z",
          "iopub.status.idle": "2024-03-26T17:42:24.864480Z",
          "shell.execute_reply": "2024-03-26T17:42:24.863939Z",
          "shell.execute_reply.started": "2024-03-26T17:42:16.675232Z"
        },
        "jupyter": {
          "outputs_hidden": false
        },
        "pycharm": {
          "is_executing": true,
          "name": "#%%\n"
        },
        "id": "a1c072c3",
        "outputId": "1902f201-8414-43e5-dec2-5ed8c8ca8ba9"
      },
      "outputs": [
        {
          "name": "stdout",
          "output_type": "stream",
          "text": [
            "Downloading https://www.cs.toronto.edu/~kriz/cifar-10-python.tar.gz to ./data/cifar-10-python.tar.gz\n"
          ]
        },
        {
          "name": "stderr",
          "output_type": "stream",
          "text": [
            "100%|██████████| 170498071/170498071 [00:03<00:00, 48257750.13it/s]\n"
          ]
        },
        {
          "name": "stdout",
          "output_type": "stream",
          "text": [
            "Extracting ./data/cifar-10-python.tar.gz to ./data\n",
            "Files already downloaded and verified\n"
          ]
        }
      ],
      "source": [
        "import torch\n",
        "import torchvision\n",
        "import torchvision.transforms as transforms\n",
        "\n",
        "# Set a seed for reproducibility\n",
        "torch.manual_seed(42)\n",
        "\n",
        "transform = transforms.Compose(\n",
        "    [transforms.ToTensor(), # Convert arrays to Tensors\n",
        "     transforms.Normalize((0.5, 0.5, 0.5), (0.5, 0.5, 0.5))]) # apply normalisation to the image array\n",
        "\n",
        "batch_size = 4\n",
        "\n",
        "# Define the dataset and dataloaders used for training and testing\n",
        "trainset = torchvision.datasets.CIFAR10(\n",
        "    root='./data', # Where will the data be saved\n",
        "    train=True, # boolean to select the train split\n",
        "    download=True, # Download data\n",
        "    transform=transform # Transforms to be applied, defined above.\n",
        ")\n",
        "trainloader = torch.utils.data.DataLoader(\n",
        "    trainset, # dataset to use when creating the dataloader\n",
        "    batch_size=batch_size, # Batch size, number of images to load at each step\n",
        "    shuffle=True, # Whether or not the order of the samples should be shuffled\n",
        "    num_workers=2)\n",
        "\n",
        "testset = torchvision.datasets.CIFAR10(root='./data', train=False,\n",
        "                                       download=True, transform=transform)\n",
        "testloader = torch.utils.data.DataLoader(testset, batch_size=batch_size,\n",
        "                                         shuffle=False, num_workers=2)\n",
        "\n",
        "classes = ('plane', 'car', 'bird', 'cat',\n",
        "           'deer', 'dog', 'frog', 'horse', 'ship', 'truck')"
      ]
    },
    {
      "cell_type": "markdown",
      "id": "a95a0b2b",
      "metadata": {
        "collapsed": false,
        "jupyter": {
          "outputs_hidden": false
        },
        "pycharm": {
          "name": "#%% md\n"
        },
        "id": "a95a0b2b"
      },
      "source": [
        "Let's quickly inspect the data so that we can see what we are working with."
      ]
    },
    {
      "cell_type": "code",
      "execution_count": null,
      "id": "20e921bc",
      "metadata": {
        "execution": {
          "iopub.execute_input": "2024-03-26T17:42:24.865882Z",
          "iopub.status.busy": "2024-03-26T17:42:24.865443Z",
          "iopub.status.idle": "2024-03-26T17:42:25.402869Z",
          "shell.execute_reply": "2024-03-26T17:42:25.402340Z",
          "shell.execute_reply.started": "2024-03-26T17:42:24.865864Z"
        },
        "jupyter": {
          "outputs_hidden": false
        },
        "pycharm": {
          "name": "#%%\n"
        },
        "id": "20e921bc",
        "outputId": "d74245ce-9eec-47a8-eb51-13e8e313ae45"
      },
      "outputs": [
        {
          "data": {
            "image/png": "[encoded data removed]",
            "text/plain": [
              "<Figure size 640x480 with 1 Axes>"
            ]
          },
          "metadata": {},
          "output_type": "display_data"
        },
        {
          "name": "stdout",
          "output_type": "stream",
          "text": [
            "frog  plane deer  car  \n"
          ]
        }
      ],
      "source": [
        "import matplotlib.pyplot as plt\n",
        "import numpy as np\n",
        "\n",
        "# functions to show an image\n",
        "def imshow(img):\n",
        "    img = img / 2 + 0.5     # unnormalize\n",
        "    npimg = img.numpy()\n",
        "    plt.imshow(np.transpose(npimg, (1, 2, 0)))\n",
        "    plt.show()\n",
        "\n",
        "# get some random training images\n",
        "dataiter = iter(trainloader)\n",
        "images, labels = next(dataiter)\n",
        "\n",
        "# show images\n",
        "imshow(torchvision.utils.make_grid(images))\n",
        "# print labels\n",
        "print(' '.join(f'{classes[labels[j]]:5s}' for j in range(batch_size)))"
      ]
    },
    {
      "cell_type": "markdown",
      "id": "4f20da22",
      "metadata": {
        "collapsed": false,
        "jupyter": {
          "outputs_hidden": false
        },
        "pycharm": {
          "name": "#%% md\n"
        },
        "id": "4f20da22"
      },
      "source": [
        "### 2.b Defining a simple neural network in PyTorch\n",
        "\n",
        "PyTorch provides a `Module` class which is the core workhorse of the torch neural networks. This Module class abstracts away many of the tensor operations required to train and update a neural network as outlined in the above section. Our neural network will be a subclass of the Module class where our network is defined in the `__init__` method and the flow of data through the network is defined in the `forward` method.\n",
        "\n",
        "Below is a simple convolution net that uses the following neural network layers `nn.Conv2d, nn.MaxPool2d, nn.Linear`.\n",
        "\n",
        "We won't get too much into the theory of convolutional neural networks in this tutorial but if you are interested in learning more this is an excellent, albeit old, blog [post](https://colah.github.io/posts/2014-07-Conv-Nets-Modular/)."
      ]
    },
    {
      "cell_type": "code",
      "execution_count": null,
      "id": "d2ed2980",
      "metadata": {
        "execution": {
          "iopub.execute_input": "2024-03-26T17:42:25.404102Z",
          "iopub.status.busy": "2024-03-26T17:42:25.403820Z",
          "iopub.status.idle": "2024-03-26T17:42:25.411037Z",
          "shell.execute_reply": "2024-03-26T17:42:25.410627Z",
          "shell.execute_reply.started": "2024-03-26T17:42:25.404077Z"
        },
        "jupyter": {
          "outputs_hidden": false
        },
        "pycharm": {
          "name": "#%%\n"
        },
        "id": "d2ed2980"
      },
      "outputs": [],
      "source": [
        "import torch.nn as nn\n",
        "import torch.nn.functional as F\n",
        "\n",
        "\n",
        "class Net(nn.Module):\n",
        "    def __init__(self):\n",
        "        super().__init__()\n",
        "        self.conv1 = nn.Conv2d(in_channels=3,\n",
        "                               out_channels=6,\n",
        "                               kernel_size=5)\n",
        "        self.pool = nn.MaxPool2d(kernel_size=2,\n",
        "                                 stride=2)\n",
        "        self.conv2 = nn.Conv2d(6, 16, 5)\n",
        "        self.fc1 = nn.Linear(in_features=16 * 5 * 5,\n",
        "                             out_features=120)\n",
        "        self.fc2 = nn.Linear(120, 84)\n",
        "        self.fc3 = nn.Linear(84, 10)\n",
        "\n",
        "    def forward(self, x):\n",
        "        x = self.pool(F.relu(self.conv1(x)))\n",
        "        x = self.pool(F.relu(self.conv2(x)))\n",
        "        x = torch.flatten(x, 1) # flatten all dimensions except batch\n",
        "        x = F.relu(self.fc1(x))\n",
        "        x = F.relu(self.fc2(x))\n",
        "        x = self.fc3(x)\n",
        "        return x\n",
        "\n",
        "\n",
        "net = Net()"
      ]
    },
    {
      "cell_type": "markdown",
      "id": "718d3963",
      "metadata": {
        "collapsed": false,
        "jupyter": {
          "outputs_hidden": false
        },
        "pycharm": {
          "name": "#%% md\n"
        },
        "id": "718d3963"
      },
      "source": [
        "## Training\n",
        "\n",
        "We've defined our neural network in PyTorch along with our dataset and dataloaders. In the next sections we will define our loss criteria, optimizer and training and evaluation functions.\n"
      ]
    },
    {
      "cell_type": "markdown",
      "id": "566b2c54-9fdc-4457-b7f3-ebdc5eeff090",
      "metadata": {
        "id": "566b2c54-9fdc-4457-b7f3-ebdc5eeff090"
      },
      "source": [
        "### Define a loss function and optimizer\n",
        "\n",
        "As a loss function we will use `nn.CrossEntropyLoss`. Cross entropy loss is a common loss function for multiclass classification problems and suitable for a wide range of problems. In a nutshell, cross entropy loss measures the the difference between two probability distributions. The higher the loss, the more the model's predictions differ from the true label, so we try to minimize this loss.\n",
        "\n",
        "As our optimizer, we will use Stochastic Gradient Descent (`optim.SGD`) to update the weights of the neural network with a learning rate of 1e-3"
      ]
    },
    {
      "cell_type": "code",
      "execution_count": null,
      "id": "bf8e3f6f",
      "metadata": {
        "execution": {
          "iopub.execute_input": "2024-03-26T17:42:25.412677Z",
          "iopub.status.busy": "2024-03-26T17:42:25.412256Z",
          "iopub.status.idle": "2024-03-26T17:42:25.418444Z",
          "shell.execute_reply": "2024-03-26T17:42:25.418015Z",
          "shell.execute_reply.started": "2024-03-26T17:42:25.412655Z"
        },
        "jupyter": {
          "outputs_hidden": false
        },
        "pycharm": {
          "name": "#%%\n"
        },
        "id": "bf8e3f6f"
      },
      "outputs": [],
      "source": [
        "import torch.optim as optim\n",
        "\n",
        "criterion = nn.CrossEntropyLoss()\n",
        "optimizer = optim.SGD(net.parameters(), lr=0.001, momentum=0.9)"
      ]
    },
    {
      "cell_type": "markdown",
      "id": "40ac0445-dce0-43d0-936e-d5edce2c862c",
      "metadata": {
        "pycharm": {
          "name": "#%% md\n"
        },
        "id": "40ac0445-dce0-43d0-936e-d5edce2c862c"
      },
      "source": [
        "Next we'll define a function to train the network for a fixed number of epochs."
      ]
    },
    {
      "cell_type": "code",
      "execution_count": null,
      "id": "3f85169d",
      "metadata": {
        "execution": {
          "iopub.execute_input": "2024-03-26T17:42:25.419153Z",
          "iopub.status.busy": "2024-03-26T17:42:25.419000Z",
          "iopub.status.idle": "2024-03-26T17:43:35.549186Z",
          "shell.execute_reply": "2024-03-26T17:43:35.548480Z",
          "shell.execute_reply.started": "2024-03-26T17:42:25.419139Z"
        },
        "jupyter": {
          "outputs_hidden": false
        },
        "pycharm": {
          "name": "#%%\n"
        },
        "id": "3f85169d",
        "outputId": "2b96f820-18e9-4fd0-aa5f-47846af5337f"
      },
      "outputs": [
        {
          "name": "stdout",
          "output_type": "stream",
          "text": [
            "[1,  2000] loss: 2.144\n",
            "[1,  4000] loss: 1.831\n",
            "[1,  6000] loss: 1.673\n",
            "[1,  8000] loss: 1.568\n",
            "[1, 10000] loss: 1.517\n",
            "[1, 12000] loss: 1.442\n",
            "[2,  2000] loss: 1.396\n",
            "[2,  4000] loss: 1.357\n",
            "[2,  6000] loss: 1.326\n",
            "[2,  8000] loss: 1.333\n",
            "[2, 10000] loss: 1.298\n",
            "[2, 12000] loss: 1.257\n"
          ]
        },
        {
          "data": {
            "text/plain": [
              "[<matplotlib.lines.Line2D at 0x7f70fc9ff820>]"
            ]
          },
          "execution_count": 5,
          "metadata": {},
          "output_type": "execute_result"
        },
        {
          "data": {
            "image/png": "[encoded data removed]",
            "text/plain": [
              "<Figure size 640x480 with 1 Axes>"
            ]
          },
          "metadata": {},
          "output_type": "display_data"
        }
      ],
      "source": [
        "def train_iter(epochs: int):\n",
        "    \"\"\"Train the neural network for a set number of epochs\"\"\"\n",
        "    loss_array = []\n",
        "    for epoch in range(epochs):  # loop over the dataset multiple times\n",
        "\n",
        "        running_loss = 0.0\n",
        "        for i, data in enumerate(trainloader, 0):\n",
        "            # get the inputs; data is a list of [inputs, labels]\n",
        "            inputs, labels = data\n",
        "\n",
        "            # zero the parameter gradients\n",
        "            optimizer.zero_grad()\n",
        "\n",
        "            # forward + backward + optimize\n",
        "            outputs = net(inputs)\n",
        "            loss = criterion(outputs, labels)\n",
        "            loss.backward()\n",
        "            optimizer.step()\n",
        "\n",
        "            # print statistics\n",
        "            running_loss += loss.item()\n",
        "            if i % 2000 == 1999:    # print every 2000 mini-batches\n",
        "                print(f'[{epoch + 1}, {i + 1:5d}] loss: {running_loss / 2000:.3f}')\n",
        "                loss_array.append(running_loss / 2000)\n",
        "                running_loss = 0.0\n",
        "\n",
        "    return loss_array\n",
        "\n",
        "loss_array = train_iter(2)\n",
        "plt.plot(range(len(loss_array)), loss_array)"
      ]
    },
    {
      "cell_type": "markdown",
      "id": "5f66d687",
      "metadata": {
        "collapsed": false,
        "jupyter": {
          "outputs_hidden": false
        },
        "pycharm": {
          "name": "#%% md\n"
        },
        "id": "5f66d687"
      },
      "source": [
        "From the chart above we can see how our loss decreases with each training step, decreasing rapidly at the beginning and then starting to level off as training continues resulting in diminishing returns.\n",
        "\n",
        "### Evaluate the trained model\n",
        "\n",
        "Okay, we've trained our model for 2 epochs. Let's test it out on some of the data the model hasn't seen before which is in our testloader. We'll start by printing out the images so we can manual inspect them and then generating class labels from the model."
      ]
    },
    {
      "cell_type": "code",
      "execution_count": null,
      "id": "f28aeb88",
      "metadata": {
        "execution": {
          "iopub.execute_input": "2024-03-26T17:43:35.550545Z",
          "iopub.status.busy": "2024-03-26T17:43:35.550168Z",
          "iopub.status.idle": "2024-03-26T17:43:35.688112Z",
          "shell.execute_reply": "2024-03-26T17:43:35.687483Z",
          "shell.execute_reply.started": "2024-03-26T17:43:35.550522Z"
        },
        "jupyter": {
          "outputs_hidden": false
        },
        "pycharm": {
          "name": "#%%\n"
        },
        "id": "f28aeb88",
        "outputId": "c543f76d-f7f3-4b32-e5d7-82b73183f56b"
      },
      "outputs": [
        {
          "data": {
            "image/png": "[encoded data removed]",
            "text/plain": [
              "<Figure size 640x480 with 1 Axes>"
            ]
          },
          "metadata": {},
          "output_type": "display_data"
        },
        {
          "name": "stdout",
          "output_type": "stream",
          "text": [
            "GroundTruth:  cat   ship  ship  plane\n"
          ]
        }
      ],
      "source": [
        "dataiter = iter(testloader)\n",
        "images, labels = next(dataiter)\n",
        "\n",
        "# print images\n",
        "imshow(torchvision.utils.make_grid(images))\n",
        "print('GroundTruth: ', ' '.join(f'{classes[labels[j]]:5s}' for j in range(4)))"
      ]
    },
    {
      "cell_type": "code",
      "execution_count": null,
      "id": "bccf1716",
      "metadata": {
        "execution": {
          "iopub.execute_input": "2024-03-26T17:43:35.689543Z",
          "iopub.status.busy": "2024-03-26T17:43:35.689133Z",
          "iopub.status.idle": "2024-03-26T17:43:35.697288Z",
          "shell.execute_reply": "2024-03-26T17:43:35.696830Z",
          "shell.execute_reply.started": "2024-03-26T17:43:35.689519Z"
        },
        "jupyter": {
          "outputs_hidden": false
        },
        "pycharm": {
          "name": "#%%\n"
        },
        "id": "bccf1716",
        "outputId": "7a2001bc-fe0d-4bdf-99e7-85a3212aefe6"
      },
      "outputs": [
        {
          "name": "stdout",
          "output_type": "stream",
          "text": [
            "Predicted:  bird  ship  ship  ship \n"
          ]
        }
      ],
      "source": [
        "net = net.eval()\n",
        "outputs = net(images)\n",
        "\n",
        "_, predicted = torch.max(outputs, 1)\n",
        "\n",
        "print('Predicted: ', ' '.join(f'{classes[predicted[j]]:5s}'\n",
        "                              for j in range(4)))"
      ]
    },
    {
      "cell_type": "markdown",
      "id": "d2a30dbc-b88e-451d-bc5b-378b81cc602c",
      "metadata": {
        "pycharm": {
          "name": "#%% md\n"
        },
        "id": "d2a30dbc-b88e-451d-bc5b-378b81cc602c"
      },
      "source": [
        "Okay, the model performance is pretty poor with only one correct prediction but this isn't too surprising having only completed two epochs of training.\n",
        "\n",
        "Let's calculate the accuracy on the overall test set by defining a function to iterate through the entire `testloader`. This function looks very similar to our training function with a couple of key differences. Firstly, all operations are wrapped in the `torch.no_grad()` context manager which disables torch's autograd engine preventing backpropagation which we do not want during evaluation. Secondly, the loss calculation and backward pass have also been removed."
      ]
    },
    {
      "cell_type": "code",
      "execution_count": null,
      "id": "587fb13f",
      "metadata": {
        "execution": {
          "iopub.execute_input": "2024-03-26T17:43:35.698371Z",
          "iopub.status.busy": "2024-03-26T17:43:35.698158Z",
          "iopub.status.idle": "2024-03-26T17:43:39.628636Z",
          "shell.execute_reply": "2024-03-26T17:43:39.627907Z",
          "shell.execute_reply.started": "2024-03-26T17:43:35.698350Z"
        },
        "jupyter": {
          "outputs_hidden": false
        },
        "pycharm": {
          "name": "#%%\n"
        },
        "id": "587fb13f",
        "outputId": "2e8a2905-0df5-4035-cf35-d112f3882a28"
      },
      "outputs": [
        {
          "name": "stdout",
          "output_type": "stream",
          "text": [
            "Accuracy of the network on the 10000 test images: 56 %\n"
          ]
        }
      ],
      "source": [
        "def evaluate_iter():\n",
        "    \"\"\"Calculate performance on the test set.\"\"\"\n",
        "    correct = 0\n",
        "    total = 0\n",
        "    # since we're not training, we don't need to calculate the gradients for our outputs\n",
        "    with torch.no_grad():\n",
        "        for data in testloader:\n",
        "            images, labels = data\n",
        "            # calculate outputs by running images through the network\n",
        "            outputs = net(images)\n",
        "            # the class with the highest energy is what we choose as prediction\n",
        "            _, predicted = torch.max(outputs.data, 1)\n",
        "            total += labels.size(0)\n",
        "            correct += (predicted == labels).sum().item()\n",
        "\n",
        "    print(f'Accuracy of the network on the 10000 test images: {100 * correct // total} %')\n",
        "\n",
        "evaluate_iter()"
      ]
    },
    {
      "cell_type": "markdown",
      "id": "446a084d-7ea1-4bae-b4e3-5da4ad74a82f",
      "metadata": {
        "pycharm": {
          "name": "#%% md\n"
        },
        "id": "446a084d-7ea1-4bae-b4e3-5da4ad74a82f"
      },
      "source": [
        "At a first glance, an accuracy of 55% seems pretty terrible and it is! However, it's important to remember that there are 10 classes with an even distribution, so the accuracy if we just randomly guessed the class for a given image would be ~10%. Our model is already much better than random guessing. This baseline is calculated because we know that the CIFAR-10 dataset is uniformly distributed so if we randomly guessed an outcome we would get the right answer approximately 10% of the time.\n",
        "\n",
        "#### A quick note on baselines\n",
        "\n",
        "Establishing a baseline is an important best practice and helps us to know if a model is adding value. Baselines can come from a number of sources:\n",
        "\n",
        "1. A prior version of the model\n",
        "    + If the project you are working on already has a model in production then you have a baseline. That baseline is the performance of the prior version\n",
        "2. If this is a net new project there are a number of ways to quickly establish a baseline\n",
        "    + Using random guessing as described above\n",
        "    + Training a simple logistic regression or tree based classifier (e.g., a decision tree) and evaluating the performance\n",
        "\n",
        "Baselines are important not only because they give us insight into how much value the model is adding but they can help us make decisions about when to ship a model versus continuing to iterate. For example, our above model achieves 56% accuracy which doesn't sound great on face value but what if was 80%? This is significantly better then random guessing and our first iteration of 56%. Would we be comfortable deploying this model now rather than striving for 99%? This often depends on the use-case."
      ]
    },
    {
      "cell_type": "markdown",
      "id": "a03ea035-d99a-4fff-a424-4ec6aa0ab115",
      "metadata": {
        "id": "a03ea035-d99a-4fff-a424-4ec6aa0ab115"
      },
      "source": [
        "⚒️ **Homework** ⚒️\n",
        "\n",
        "Experiment with the model architecture and improve on the accuracy metric of 55%. Some ideas to try:\n",
        "\n",
        "* Increase the number of training epochs\n",
        "* Increase the number of out channels calculated as part of the convolution\n",
        "    + Be careful as this changes the number of inputs required to the first `nn.Linear` layer, bonus points if you can figure out the relationship.\n",
        "* Experiment with the learning rate to see how loss changes\n",
        "\n",
        "Alternatively, as a harder challenge, try switching out the CIFAR10 dataset with another PyTorch-provided dataset and train an entirely new model. We recommend the [MNIST dataset](https://pytorch.org/vision/main/generated/torchvision.datasets.MNIST.html), since it is a relatively similar problem.\n",
        "\n",
        "_Note: Some reminders, when evaluating model performance you need to set your neural network to `.train` mode and when evaluating you need to set the model to `.eval` to let your model know that it's in eval model, this disables things like dropout or other normalisation layers that we did not cover in this lesson. The model defaults to train mode when initialised._"
      ]
    },
    {
      "cell_type": "markdown",
      "id": "211c7d8c",
      "metadata": {
        "collapsed": false,
        "jupyter": {
          "outputs_hidden": false
        },
        "pycharm": {
          "name": "#%% md\n"
        },
        "id": "211c7d8c"
      },
      "source": [
        "## <a name=\"conclusion\">Conclusion</a>\n",
        "\n",
        "Well done, you've learned the basics of how to train a neural network in PyTorch! If you are interested in getting a more in-depth tutorial, we recommend you check out [PyTorch's beginner guide](https://pytorch.org/tutorials/beginner/basics/intro.html).\n",
        "\n",
        "See you in the next one!"
      ]
    },
    {
      "cell_type": "code",
      "execution_count": null,
      "id": "71537f3a",
      "metadata": {
        "jupyter": {
          "outputs_hidden": false
        },
        "pycharm": {
          "name": "#%%\n"
        },
        "id": "71537f3a"
      },
      "outputs": [],
      "source": []
    }
  ],
  "metadata": {
    "kernelspec": {
      "display_name": "Python 3 (ipykernel)",
      "language": "python",
      "name": "python3"
    },
    "language_info": {
      "codemirror_mode": {
        "name": "ipython",
        "version": 3
      },
      "file_extension": ".py",
      "mimetype": "text/x-python",
      "name": "python",
      "nbconvert_exporter": "python",
      "pygments_lexer": "ipython3",
      "version": "3.11.9"
    },
    "colab": {
      "provenance": [],
      "include_colab_link": true
    }
  },
  "nbformat": 4,
  "nbformat_minor": 5
}