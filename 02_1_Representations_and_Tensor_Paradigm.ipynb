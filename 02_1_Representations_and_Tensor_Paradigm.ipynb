{
  "cells": [
    {
      "cell_type": "markdown",
      "metadata": {
        "id": "view-in-github",
        "colab_type": "text"
      },
      "source": [
        "<a href=\"https://colab.research.google.com/github/SeanOnamade/BasicProjects/blob/main/02_1_Representations_and_Tensor_Paradigm.ipynb\" target=\"_parent\"><img src=\"https://colab.research.google.com/assets/colab-badge.svg\" alt=\"Open In Colab\"/></a>"
      ]
    },
    {
      "cell_type": "markdown",
      "id": "a5b94fe6-331f-43e9-84e9-60d721ce413f",
      "metadata": {
        "id": "a5b94fe6-331f-43e9-84e9-60d721ce413f"
      },
      "source": [
        "# Representation and AI\n",
        "\n",
        "\n",
        "The history of Artificial Intelligence is often told through the lens of models, milestones, and eye-catching applications.\n",
        "\n",
        "In this course, we take a unique and opinionated approach -- focusing on the concept of **representation**, and trace its evolution through the history of AI.\n",
        "\n",
        "By **representation**, we mean how human knowledge and experiences are encoded within the computational systems. This unique _representation_ angle reveals the philosophical struggles, breakthroughs, and ongoing dilemmas that shape what AI can and cannot do.\n",
        "\n",
        "Let's dive in!\n",
        "\n",
        "**Table of Contents:**\n",
        "1. [The Symbolic Era: Symbols and Logics](#symbolic_era)\n",
        "2. [The Probabilistic Patch: Uncertainty Enters the Picture](#probabilistic_patch)\n",
        "3. [The Rise of Neural Networks: Learning to Represent](#rise_of_neural_nets)\n",
        "4. [Distributed Representation](#distributed_representation)\n",
        "6. [Conclusion](#conclusion)"
      ]
    },
    {
      "cell_type": "markdown",
      "id": "29218762-d712-4218-a151-038be1cc5049",
      "metadata": {
        "id": "29218762-d712-4218-a151-038be1cc5049"
      },
      "source": [
        "## <a name=\"symbolic_era\">1. The Symbolic Era: Symbols and Logics\n",
        "\n",
        "Early AI pioneers believed the secrets of intelligence lay in our ability to *manipulate symbols* and *reasoning using logical rules*.\n",
        "\n",
        "How did they arrive at this belief?\n",
        "\n",
        "There is a path dependency here. Early AI practitioners were mathematicians, and it is natural for a mathematician to model the world using the language they are most familiar with. As a result, AI systems during this era relied on handcrafted knowledge bases and rules."
      ]
    },
    {
      "cell_type": "markdown",
      "id": "db3cd286-8266-4aef-a7cc-18022b7144f3",
      "metadata": {
        "id": "db3cd286-8266-4aef-a7cc-18022b7144f3"
      },
      "source": [
        "### Toy knowledge base\n",
        "\n",
        "The following program shows a toy knowledge base. By adding simple facts such as `(John, father-of, Tom)` and logic rules such as `IF (A father-of B) AND (B father-of C), THEN A grandfather-of C`, we have an AI that can perform logical reasoning."
      ]
    },
    {
      "cell_type": "code",
      "execution_count": null,
      "id": "83582f95-b0e2-434d-b8e0-61f99f9be440",
      "metadata": {
        "id": "83582f95-b0e2-434d-b8e0-61f99f9be440",
        "outputId": "45497594-305d-456c-e973-4335cf95997e"
      },
      "outputs": [
        {
          "name": "stdout",
          "output_type": "stream",
          "text": [
            "True\n",
            "False\n"
          ]
        }
      ],
      "source": [
        "from dataclasses import dataclass\n",
        "\n",
        "@dataclass\n",
        "class Triple:\n",
        "    \"\"\" subject, predicate, object relationship. tom is-father-of kate \"\"\"\n",
        "    a: str\n",
        "    r: str\n",
        "    b: str\n",
        "\n",
        "class KnowledgeBase:\n",
        "    def __init__(self):\n",
        "        self.data: list[Triple] = []\n",
        "        self.entities: set[str] = set()\n",
        "        self.rules = {}\n",
        "\n",
        "    def add_fact(self, t: Triple):\n",
        "        self.data.append(t)\n",
        "        self.entities.update([t.a, t.b])\n",
        "\n",
        "    def check(self, a, r, b):\n",
        "        \"\"\" Check each triple for fact support \"\"\"\n",
        "        for t in self.data:\n",
        "            if t.a == a and t.b == b and t.r ==r:\n",
        "                return True\n",
        "        if r in self.rules:\n",
        "            return self.rules[r](a, b)\n",
        "        return False\n",
        "\n",
        "    def init_rules(self):\n",
        "        \"\"\" Logical rules for the knowledge base \"\"\"\n",
        "        self.rules['is-grandfather'] = lambda a, b: any(\n",
        "            self.check(a, 'is-father', x) and self.check(x, 'is-father', b) for x in self.entities\n",
        "        )\n",
        "        # add more logic rules here.\n",
        "\n",
        "kb = KnowledgeBase()\n",
        "kb.init_rules()\n",
        "\n",
        "kb.add_fact(Triple(\"john\", \"is-father\", \"tom\"))\n",
        "kb.add_fact(Triple(\"sandy\", \"is-mother\", \"tom\"))\n",
        "kb.add_fact(Triple(\"ben\", \"is-father\", \"john\"))\n",
        "\n",
        "print(kb.check('ben', 'is-grandfather', 'tom'))\n",
        "print(kb.check('jerry', 'is-grandfather', 'tom'))"
      ]
    },
    {
      "cell_type": "markdown",
      "id": "a3a0f431",
      "metadata": {
        "jp-MarkdownHeadingCollapsed": true,
        "id": "a3a0f431"
      },
      "source": [
        "##### ⚒️ **Homework** ⚒️\n",
        "\n",
        "Try to add a new rule (to the `init_rules` function), stating that if `A` and `B` have the same parents, they are siblings.\n",
        "\n",
        "The hidden cell below has the answer:"
      ]
    },
    {
      "cell_type": "code",
      "execution_count": null,
      "id": "b611f383",
      "metadata": {
        "id": "b611f383"
      },
      "outputs": [],
      "source": [
        "### answer\n",
        "def rule_init(self):\n",
        "  self.rules['sibling'] = lambda a, b: any(\n",
        "      self.check(x, 'is-father', a) and self.check(x, 'is-father', b) for x in self.entities\n",
        "    ) or any (\n",
        "      self.check(x, 'is-mother', a) and self.check(x, 'is-mother', b) for x in self.entities\n",
        "    )"
      ]
    },
    {
      "cell_type": "markdown",
      "id": "8018eccd-1570-427b-ba89-628444adeac3",
      "metadata": {
        "id": "8018eccd-1570-427b-ba89-628444adeac3"
      },
      "source": [
        "### Limitations of symbolic reasoning\n",
        "\n",
        "Early AI practitioners believed that artificial general intelligence (AGI) could be achieved via symbolic systems:\n",
        "\n",
        ">  A physical symbol system has the necessary and sufficient means for general intelligent action. [\\[1\\]](https://dl.acm.org/doi/10.1145/360018.360022)\n",
        ">\n",
        ">  — Allen Newell and Herbert A. Simon\n",
        "\n",
        "The belief was that if only there were a giant, highly-structured encyclopedia, filled with facts and relationships, then we'd be able to reason about anything!\n",
        "\n",
        "Unfortunately, this turns out to be much easier said than done. Looking back, the belief that symbolic systems can lead to AGI and that mathematics is the ultimate form of intelligence were unintentionally arrogant and unfortunately ignorant."
      ]
    },
    {
      "cell_type": "markdown",
      "id": "24d945a0",
      "metadata": {
        "id": "24d945a0"
      },
      "source": [
        "These symbolic AI systems come with two main disadvantages:\n",
        "\n",
        "- **Brittleness**: These systems *do not* handle the uncertainty or ambiguity prevalent in the real world. For example, the statement `IF A and B are mother and father of X, then A and B are married` is often true, but not always. Logical representation does not capture the \"plausible\" nature of human reasoning.\n",
        "\n",
        "- **Knowledge Acquisition Bottleneck**: Manually creating and maintaining the complex knowledge bases was time-consuming and laborious."
      ]
    },
    {
      "cell_type": "markdown",
      "id": "0f752256",
      "metadata": {
        "id": "0f752256"
      },
      "source": [
        "### Symbolic Paradigm Today\n",
        "\n",
        "Despite this paradigm's limitations, it remains alive and well in today's world. Here are some astonishing successes of the symbolic era:\n",
        "\n",
        "* In the 1950s, a theorem prover that could solve all homework problems from a high-school geometry textbook.\n",
        "* Claude Shannon envisioned computer playing chess in 1949, and finally Deep Blue defeated world champion Garry Kasparov in 1997.\n",
        "* The [wikidata project](https://www.wikidata.org/wiki/Wikidata:Introduction) is the largest open knowledge base, containing ~17.8 billion triples of knowledge."
      ]
    },
    {
      "cell_type": "markdown",
      "id": "3ae69624",
      "metadata": {
        "id": "3ae69624"
      },
      "source": [
        "## <a name=\"probabilistic_patch\"> 2. The Probabilistic Patch: Uncertainty Enters the Picture\n",
        "\n",
        "Symbolic AI has a severe limitation: it cannot handle uncertainty, and uncertainty is life.\n",
        "\n",
        "Enter the **probabilistic revolution**. Instead of rigid rules, these systems can reason with probabilities, allowing for a degree of flexibility and nuance. Models such as bayesian networks and logistic regression were developed to directly encode these types of probabilistic relationships.\n",
        "\n",
        "But if our rules are probabilistic, an immediate problem arises: how do we decide the probabilities?  This is where **learning** starts to shine -- the idea that we can learn from data.\n",
        "\n",
        "To illustrate how \"plausible\" rules can be learned, we devise an easy to understand toy problem below and then train a `LogisticRegression` model on the problem. The problem is: _given a binary number, determine if it is even or odd_.\n",
        "\n",
        "Clearly if we used a rule based system, we could simply check ` x % 2 `, or really if the least significant bit is `0`. Here, we do not explicitly tell the computer this rule, and see if it can discover the rule through learning."
      ]
    },
    {
      "cell_type": "code",
      "execution_count": null,
      "id": "67299c26",
      "metadata": {
        "id": "67299c26",
        "outputId": "44ba2c4a-8cfe-4802-f84d-0cdff3e67028"
      },
      "outputs": [
        {
          "name": "stdout",
          "output_type": "stream",
          "text": [
            "Number: 0, Binary representation: [0 0 0 0 0 0], is_even: True\n",
            "Number: 1, Binary representation: [0 0 0 0 0 1], is_even: False\n",
            "Number: 2, Binary representation: [0 0 0 0 1 0], is_even: True\n",
            "Number: 3, Binary representation: [0 0 0 0 1 1], is_even: False\n",
            "Number: 4, Binary representation: [0 0 0 1 0 0], is_even: True\n"
          ]
        }
      ],
      "source": [
        "import numpy as np\n",
        "\n",
        "def convert_to_binary(number, num_digits=6):\n",
        "    \"\"\" Output binary representation of number as a one-hot encoding for number up to N digits \"\"\"\n",
        "    binary_repr = np.binary_repr(number, width=num_digits)  # Convert to binary\n",
        "\n",
        "    encoding = np.zeros((num_digits), dtype=int)\n",
        "    for i, digit in enumerate(binary_repr):\n",
        "        encoding[i] = int(digit)\n",
        "\n",
        "    return encoding.flatten()\n",
        "\n",
        "# We produce the training data of random numbers (0-63) and their labels.\n",
        "np.random.seed(4222) # Random seed is fixed to ensure reproducibility.\n",
        "\n",
        "def get_training_data(label_func):\n",
        "    numbers = np.random.randint(0, 64, size=1000)\n",
        "\n",
        "    # Hide a few numbers from the computer, so it cannot possibly just memorize.\n",
        "    numbers = np.setdiff1d(numbers, np.array([12, 13, 14, 15]))\n",
        "\n",
        "    X = np.array([convert_to_binary(num) for num in numbers])\n",
        "    y = np.array([label_func(num) for num in numbers])  # Labels: 1/True if divisible by 2, else 0/False\n",
        "    return numbers, X, y\n",
        "\n",
        "numbers, X, y = get_training_data(lambda num: num % 2 == 0)\n",
        "for i in range(5):\n",
        "    print(f\"Number: {numbers[i]}, Binary representation: {X[i]}, is_even: {y[i]}\")"
      ]
    },
    {
      "cell_type": "markdown",
      "id": "d93a6160",
      "metadata": {
        "id": "d93a6160"
      },
      "source": [
        "Now we have the training dataset, and it looks correct. We will go ahead and train the model."
      ]
    },
    {
      "cell_type": "code",
      "execution_count": null,
      "id": "437ca705",
      "metadata": {
        "id": "437ca705",
        "outputId": "9514943c-9ecd-4064-bc75-f6783f53847d"
      },
      "outputs": [
        {
          "name": "stdout",
          "output_type": "stream",
          "text": [
            "Number: 12, (Model prediction) is_even: True\n",
            "Number: 13, (Model prediction) is_even: False\n",
            "Number: 14, (Model prediction) is_even: True\n",
            "Number: 15, (Model prediction) is_even: False\n"
          ]
        }
      ],
      "source": [
        "from sklearn.linear_model import LogisticRegression\n",
        "\n",
        "def train(X, y, max_iter=10):\n",
        "    return LogisticRegression(max_iter=max_iter).fit(X, y)\n",
        "\n",
        "def predict(clf, n):\n",
        "    return clf.predict(convert_to_binary(n).reshape(1, -1))[0]\n",
        "\n",
        "model = train(X, y)\n",
        "for i in [12, 13, 14, 15]:\n",
        "    print(f\"Number: {i}, (Model prediction) is_even: {predict(model, i)}\")"
      ]
    },
    {
      "cell_type": "markdown",
      "id": "17e1725c",
      "metadata": {
        "id": "17e1725c"
      },
      "source": [
        "As we can see, the results are correct: our classifier maps `12` and `14` to true values (they are even) while the odd numbers are mapped to false."
      ]
    },
    {
      "cell_type": "markdown",
      "id": "21683bab",
      "metadata": {
        "id": "21683bab"
      },
      "source": [
        "### How is the rule represented?\n",
        "\n",
        "Judging from the generalization behavior on unseen numbers, we can conclude that the model has learned **something** about this problem, but what?"
      ]
    },
    {
      "cell_type": "markdown",
      "id": "1cb96b32-2074-4d91-a2e9-a39a5ba01b90",
      "metadata": {
        "id": "1cb96b32-2074-4d91-a2e9-a39a5ba01b90"
      },
      "source": [
        "#### An aside on logistic regression"
      ]
    },
    {
      "cell_type": "markdown",
      "id": "6e6ac339-ffda-4e9f-885a-7c0ad0e7f0df",
      "metadata": {
        "id": "6e6ac339-ffda-4e9f-885a-7c0ad0e7f0df"
      },
      "source": [
        "First, it's worth taking a moment to consider how logistic regression works. Logistic regression is a statistical method used to predict a binary outcome based on one or more predictor variables. In simple terms, it's a model that learns to predict the outcome of a yes/no question by considering various factors.\n",
        "\n",
        "Take the example of predicting whether a person has the flu based on their symptoms. The logistic regression model will learn to predict whether a person has the flu (outcome) based on the person's symptoms (predictive factors), e.g. presence of a fever, cough, sore throat, etc. The outcome is binary - the person either has the flu (yes) or doesn't have the flu (no).\n",
        "\n",
        "In this case, logistic regression would analyze the relationship between these symptoms and past known cases of flu. For example, it might find that people with a fever, cough, and sore throat are more likely to have the flu. Then, when a new person comes in with a certain set of symptoms, the logistic regression model uses this relationship to predict the probability that this person has the flu. For instance, if a person has a fever, cough, and sore throat, the model might predict they have a 75% chance of having the flu."
      ]
    },
    {
      "cell_type": "markdown",
      "id": "477eae2f-4640-4c30-a00b-e24ed4a8d3db",
      "metadata": {
        "id": "477eae2f-4640-4c30-a00b-e24ed4a8d3db"
      },
      "source": [
        "#### Opening up the model\n",
        "Given this context, let's return to our toy problem of predicting whether a number is even or odd. To understand what our model has learned, we will take a look at it's coefficients, or weights.\n",
        "\n",
        "Remember, we trained our logistic regression model to predict whether a number is even (outcome) based on its the binary representation (predictive factors). The model has one weight per bit, let's graph these weights:\n",
        "\n",
        "_Note: don't worry about the nuances of the code too much._"
      ]
    },
    {
      "cell_type": "code",
      "execution_count": null,
      "id": "e9331a58",
      "metadata": {
        "id": "e9331a58",
        "outputId": "8bc10e30-6108-409e-fc36-a04868777b2c"
      },
      "outputs": [
        {
          "data": {
            "image/png": "[encoded data removed]",
            "text/plain": [
              "<Figure size 640x480 with 1 Axes>"
            ]
          },
          "metadata": {},
          "output_type": "display_data"
        }
      ],
      "source": [
        "import matplotlib.pyplot as plt\n",
        "import networkx as nx\n",
        "\n",
        "def plot_coff(model):\n",
        "  # Create a graph\n",
        "  G = nx.DiGraph()\n",
        "  pos = {}\n",
        "\n",
        "  for i in range(6):\n",
        "    weight = f\"{model.coef_[0][i]:.3f}\"\n",
        "    name = f\"Bit {6-i}\"\n",
        "    G.add_edge(name, 'σ', weight=weight)\n",
        "    pos[name]=(i * 2, 0)\n",
        "  pos['σ'] = (5, 1)\n",
        "\n",
        "  # Draw the linear classifier\n",
        "  nx.draw(G, pos, with_labels=True, node_size=1200, node_color='white', edgecolors='black')\n",
        "  # Draw edge labels\n",
        "  edge_labels = {(u, v): d['weight'] for u, v, d in G.edges(data=True)}\n",
        "  nx.draw_networkx_edge_labels(G, pos, edge_labels=edge_labels)\n",
        "\n",
        "  # Draw the intercept value\n",
        "  pos['σ'] = (6, 1)\n",
        "  nx.draw_networkx_labels(G, pos, labels={'σ': f\"{model.intercept_[0]:.3f}\"})\n",
        "\n",
        "  # Show the plot\n",
        "  plt.axis('off')\n",
        "  plt.show()\n",
        "\n",
        "plot_coff(model)"
      ]
    },
    {
      "cell_type": "markdown",
      "id": "aa345aa1",
      "metadata": {
        "id": "aa345aa1"
      },
      "source": [
        "Let's break down this diagram. The bottom row of nodes represents the 6 bits of input going into our model, the edges coming out of each node represent the weight the model has learned for that bit, and the top node ($σ$) represents the decision made by the model. To get the raw model score or \"logits\", we simply multiply the edge weight by the bit value for each bit, and then add the intercept value (`1.920`) next to $σ$. Therefore, a high magnitude weight (very high or very low) means that the bit is important to the final prediction.\n",
        "\n",
        "Notice that every node has a weight value that is basically 0, except for bit 1, which represents the smallest and bit in our bit representation.\n",
        "\n",
        "Aha! This means the rule is indeed discovered by the model. To make the rule explicit, refer to the below table.\n",
        "\n",
        "| Last bit  | Model output (logits)| Model output (probability) | Classifier Value  |\n",
        "| ----------- | ----------------- | ------------------ | ----------------- |\n",
        "| 0           | 1.920             |          0.879          |  True         |\n",
        "| 1           | -1.920            |         0.127           | False       |"
      ]
    },
    {
      "cell_type": "markdown",
      "id": "f932e997",
      "metadata": {
        "id": "f932e997"
      },
      "source": [
        "Let's try a similar problem, _whether a number is evenly \"divisible by 4\"_, to acquire a deeper intuition of the model."
      ]
    },
    {
      "cell_type": "code",
      "execution_count": null,
      "id": "b19e7f78",
      "metadata": {
        "id": "b19e7f78",
        "outputId": "5a1336c4-8d19-4609-ce03-f7068d546c13"
      },
      "outputs": [
        {
          "data": {
            "image/png": "[encoded data removed]",
            "text/plain": [
              "<Figure size 640x480 with 1 Axes>"
            ]
          },
          "metadata": {},
          "output_type": "display_data"
        }
      ],
      "source": [
        "numbers, X, y = get_training_data(lambda num: num % 4 == 0)\n",
        "model = train(X, y)\n",
        "plot_coff(model)"
      ]
    },
    {
      "cell_type": "markdown",
      "id": "67027216",
      "metadata": {
        "id": "67027216"
      },
      "source": [
        "As expected, our model correctly learned that if a number is evenly divisible by `4`, both of its last two bits need to be `0`.\n",
        "\n",
        "| Bit 2     | Bit 1  | Input to $\\sigma$ (logits)| Output of $\\sigma$ (p) | Classifier Value  |\n",
        "| ----------- | -------- | ----------------- | ------------------ | ----------------- |\n",
        "| 0       | 0    | 0.768             |         0.68          |  True         |\n",
        "| 0       | 1   | -1.723             |          0.151          |  False         |\n",
        "| 1       | 0    | -1.723           |          0.151          |  False         |\n",
        "| 1       | 1   | -4.214       |         0.014         | False       |\n",
        "\n",
        "We see again that a simple rule `BIT_2 == 0 && BIT_1 == 0` translated into a vector of multiple non-zero values."
      ]
    },
    {
      "cell_type": "markdown",
      "id": "05a7e34e",
      "metadata": {
        "id": "05a7e34e"
      },
      "source": [
        "⚒️ **Homework** ⚒️\n",
        "\n",
        "Change the dataset label `y`. Try a few different labels. For example, try to see if the model can tell if a number is divisible by `N` (`N` can be 3, 4, 5 ...). What do you observe?"
      ]
    },
    {
      "cell_type": "code",
      "execution_count": null,
      "id": "afaf6c06-f0a7-44be-a7d6-7878e32faa8b",
      "metadata": {
        "id": "afaf6c06-f0a7-44be-a7d6-7878e32faa8b"
      },
      "outputs": [],
      "source": []
    },
    {
      "cell_type": "markdown",
      "id": "753c23cb",
      "metadata": {
        "id": "753c23cb"
      },
      "source": [
        "### What can the machine learn?\n",
        "\n",
        "Though the example is toyish, we can draw three takeaways that are universally true in machine learning.\n",
        "\n",
        "1. Machines **can** learn from data, without being explicitly told what pattern they should look for inside the data. No more `kb.init_rules`, data itself manifests the pattern and our learning process can extract the hidden pattern.\n",
        "\n",
        "2. The learned model is as powerful as the logical rule, but represented differently. Here, the learned rule is represented as a vector (the coefficients and intercept value of the logistic classifier), not am `IF` statement.  This is a profound intuition that we want our readers to start groking: **rules can be represented as vectors**, and **reasoning can be represented as numeric operations on vectors**. We will come back to this profound intuition in the next section.\n",
        "\n",
        "3. In this set up, data given to the model are preprocessed into **features**. In our toy example, we converted our number into a binary representation to get six features. To a machine learning model, features represent everything they know about the world. In other words, **features** serve as a conceptual bridge that links two subproblems of AI: how do we represent the world to a model (via feature engineering) and how do we fit the model to the world (via machine learning).\n",
        "\n",
        "The probabilistic patch led to the thrive of ML as a way to propel AI forward. The question is, can we go further?"
      ]
    },
    {
      "cell_type": "markdown",
      "id": "6cdb2be8",
      "metadata": {
        "id": "6cdb2be8"
      },
      "source": [
        "## <a name=\"rise_of_neural_nets\"> 3. The Rise of Neural Networks: Learning to Represent\n",
        "\n",
        "The advent of deep learning marked a significant turning point in AI representation: representations can now be learned.\n",
        "\n",
        "In classic machine learning, to feed a model with data, we typically would hand-craft \"features\" as inputs. These features are effectively representations of the data. As we discussed above, though the model now is patched probabilistically, the features are still essentially symbolic -- for example they represent if a certain bit is 0 or 1, or if an edge is detected in a patch of image etc. Though the models can be trained with data, the features themselves are designed by hand.\n",
        "\n",
        "The key shift in deep learning is that we do not need to hand-craft those representations -- they too can be learned. We have entered an era where raw data (images, text, voice) can be used as input to the neural network, and symmetrically, the network can output images, text and voice signals. This paradigm shift fueled remarkable progress in computer vision, natural language processing, and other domains of AI. All these can be traced back to a key insight discovered by Geoffrey Hinton in 1981.\n"
      ]
    },
    {
      "cell_type": "markdown",
      "id": "94b1ed0e",
      "metadata": {
        "id": "94b1ed0e"
      },
      "source": [
        "## <a name=\"distributed_representation\"> 4. Distributed Representation\n",
        "\n",
        "\n",
        "In the \"How is the rule represented\" section earlier, we hinted that while a logic rule can be represented as an `IF` statement, it can also be represented as a vector. However, our observation is specific to the problem itself.\n",
        "\n",
        "\n",
        "Geoffrey Hinton made a much generalized observation in 1981: he argues that many symbolic entities (facts, rules, words) are likely represented as a \"pattern of activities distributed over many computing elements\".  Translating the terminology of the era to simple English: entities can be represented as vectors (of multiple elements). Each element of the vector represents some partial information about the entity, and collectively it forms an \"activation pattern\" for the entity.  The representation is called **distributed** because it's no longer attached to a singular symbol -- the information is distributed among a bunch of numbers.\n",
        "\n",
        "\n",
        "If the above language seems obscure to you, you are not alone: the concept of distributed representation is not intuitive. Let's visualize it in the human brain."
      ]
    },
    {
      "cell_type": "markdown",
      "id": "ce4db111",
      "metadata": {
        "id": "ce4db111"
      },
      "source": [
        "### Distributed Representation in Human Brain\n",
        "\n",
        "\n",
        "In the 1990s, functional magnetic resonance imaging (fMRI) was invented to measure brain activity. It detects changes associated with blood flow. Since cerebral blood flow and neuronal activation are correlated, the heat image we see from fMRI indicates active brain activity in the region.\n",
        "\n",
        "\n",
        "The following image, originally reported in \"A Neurosemantic Theory of Concrete Noun Representation Based on the Underlying Brain Codes\" [\\[2\\]](https://journals.plos.org/plosone/article?id=10.1371/journal.pone.0008622), shows an fMRI image of a human brain activation when looking at the words \"apartment\" and \"carrot\".\n",
        "\n",
        "\n",
        "<img src=\"resources/images/pone.0008622.g005.png\" alt=\"brain-fmri\" width=\"30%\"/>"
      ]
    },
    {
      "cell_type": "markdown",
      "id": "8e824a67-d3f1-41fd-bc7d-623aae201179",
      "metadata": {
        "id": "8e824a67-d3f1-41fd-bc7d-623aae201179"
      },
      "source": [
        "We can see that multiple brain regions are activated on one word, indicating a distributed representation of words in the human brain."
      ]
    },
    {
      "cell_type": "markdown",
      "id": "2b1514fd",
      "metadata": {
        "id": "2b1514fd"
      },
      "source": [
        "### Tensors as a Unified Representation Format\n",
        "\n",
        "#### An introduction to tensors\n",
        "Our world is multi-modal in nature -- we interact with text, images, videos, tables, graphs and code. Distributed representation provides a unified path for handling these inputs in a unified way: they can all be represented distributedly. In modern deep learning, we use a unified object called \"tensor\" to represent them. AI as a whole has embraced the tensor paradigm.\n",
        "\n",
        "\n",
        "Mathematically, tensors are simply multi-dimensional arrays. While the term tensor can be thought of as solely a generalization of numbers (scalars), vectors (1D), matrices (2D) and higher dimensional matrices (kD), in modern AI, tensors are used as distributed representations. In the same way that a particular compression algorithm may choose to represent any digital object as well formatted binary, techniques in ML can be imagined to represent any digital object as a tensor of some dimensionality. Conforming to a tensor representation is not precisely a compression (there is no guarantee of losslessness, for example), but it can be a useful metaphor.\n",
        "\n",
        "Tensors can represent many different types of information, such as:\n",
        "1. Multimodal media - a word can be represented as a tensor, so too a sentence, an image, or even a batch of images (i.e. a video)\n",
        "2. A neural network's input, intermediate values, and output (whether that's probabilities, the next word, or a generated image) are all tensors\n",
        "3. The weights and gradients in a neural network\n",
        "\n",
        "Aligning on tensor representations (e.g. encoding text as token tensors and images as RGB pixel tensors) across the field allows the same or similar architectures & optimizations to be applied across different tensor representations, and even different modalities. Understanding this representation interpretation can help us understand some designs in modern neural network architecture, and see how the underlying techniques can be seen repeatedly in solutions that may initially appear quite fundamentally different."
      ]
    },
    {
      "cell_type": "markdown",
      "id": "30558689-ef82-4358-b2ac-de9d5f03dc96",
      "metadata": {
        "id": "30558689-ef82-4358-b2ac-de9d5f03dc96"
      },
      "source": [
        "#### How neural networks use tensors\n",
        "From a high level, we can split a modern neural network into three distinctive stages:\n",
        "\n",
        "* Map multimodal signals to tensor representations\n",
        "* Progressively process representations\n",
        "* Map representations back to signals\n",
        "\n",
        "Let's look at them one by one."
      ]
    },
    {
      "cell_type": "markdown",
      "id": "82ae0182",
      "metadata": {
        "id": "82ae0182"
      },
      "source": [
        "\n",
        "**Map Multimodal Signals to Tensor Representations**\n",
        "\n",
        "From a high level, all deep learning networks operate in the **representation** space. To take in text or image as input, we would first transform the input into the representation space. For an image, we can simply use the RGB values for each pixel in the image, giving us a tensor with the shape 3 x height x width. For a language model, we can use tokens, which are pieces of text (e.g. words, word parts, or individual characters) that have been encoded into a distributed representation (also called embeddings) using a simple lookup table, giving us a 1D tensor with N values.\n",
        "\n",
        "An illustration of an embedding table (using GPT-2 tokenizer).\n",
        "\n",
        "| Id          |   Token      | Embedding    |\n",
        "| ----------- | ----------- | ------------- |\n",
        "| 15496      | Hello       |  [0.5190, 0.3122, 0.7978, 0.2028, ...] |\n",
        "| 995   | _world        |   [0.6217, 0.5354, 0.0911, 0.9505, ... ]|\n",
        "| 0     |   !           | [0.3560, 0.7853, 0.8489, 0.0324, ... ]|\n",
        "| [GoldMagikarp](https://www.lesswrong.com/posts/jbi9kxhb4iCQyWG9Y/explaining-solidgoldmagikarp-by-looking-at-it-from-random)  | 42202 | [0.5744, 0.9258, 0.0247, 0.3403, ...]|\n",
        "\n",
        "\n",
        "**Progressively Process the Representations**\n",
        "\n",
        "After mapping signals to tensor representations, we can apply any tensor operations onto these representations. We often string together multiple layers of such operations, putting the \"deep\" in deep neural network. From the representation point of view, being deep has its purpose -- it allows the network to progressively process the representation, to derive higher level representations, or to refine the relationship between those representations.\n",
        "\n",
        "A classic way to visualize different levels of representations is by visualizing a convolutional neural network (CNNs) that has been trained to identify animals in images. Specifically, we'll plot out how the CNN represent an inputted image of a cat at different levels of \"deepness\".\n",
        "<img src=\"resources/images/cnn_conv_visualization.png\" alt=\"cnn_conv_visualization\" width=\"50%\"/>\n",
        "\n",
        "The top row is what the model \"sees\" after applying the first convolutional layer to the cat image. Notice that much of the raw pixel information is retained. The second row is what the model \"sees\" after applying the second convolutional layer to the outputs from the first layer; the information is now slightly more abstract. This continues until we reach the final row, where we are left with a very simple representation of the original cat image. You may look at the final row of images and wonder how the CNN could possibly know whether these images represent a cat, dog, or cassowary, but that's only because you don't share the representation of the cat that the CNN has learned.\n",
        "\n",
        "Think about it. A black and white cartoon image of a cat has an _extremely_ different pixel representation from a photorealistic image of a cat, yet you can easily identify both as cats. How? Because your mental representation of a cat is greatly abstracted from the pixel representation - in other words, you aren't comparing pixels one-by-one to decide if an image is of a cat or not. The same is true for our CNN! Our model has taken a complex pixel representation and learned a much more simplified representation, one that is much more easily used for image classification.\n",
        "\n",
        "You can explore more visualizations like the one above [here](https://storage.googleapis.com/distill-circuits/inceptionv1-weight-explorer/conv2d2_2.html)."
      ]
    },
    {
      "cell_type": "markdown",
      "id": "74d5c9ce",
      "metadata": {
        "id": "74d5c9ce"
      },
      "source": [
        "**Map Representations Back to the Output**\n",
        "\n",
        "Now that we have a representation of the inputted data, we want to map this representation to something useful, such as a label for image classification, or token probabilities if we are training a language model to generate text.\n",
        "\n",
        "We will dive into more details later. For now it is sufficient to look at the last layer of deep learning neural networks, such as the `softmax` layer, as an interface that translates the representations (logits) to probabilities (values over all possible outputs and sums up to one). In places where we cannot assign probabilities (such as images and videos where they do not have discrete tokens to assign probabilities to), researchers invented architectures such as deconvolution (the inverse of convolution) in `U-Net` to restore pixels from internal representations.\n",
        "\n",
        "<img src=\"resources/images/softmax.png\" alt=\"softmax.png\" width=\"50%\"/>"
      ]
    },
    {
      "cell_type": "markdown",
      "id": "adcc32c6-03e5-4fdf-818c-0a5e98d7e278",
      "metadata": {
        "id": "adcc32c6-03e5-4fdf-818c-0a5e98d7e278"
      },
      "source": [
        "### Tensor and Deep Learning Frameworks\n",
        "\n",
        "\n",
        "Given deep neural networks are just collections of tensors and operations over those tensors, it is not a surprise that while modern deep learning frameworks such as PyTorch and Tensorflow have many bells and whistles, at their core, they are simply tensor libraries. In fact, these frameworks are considered **frontends** to highly optimized tensor operators on accelerators (GPU/TPU/ASIC chips).\n",
        "\n",
        "An important aspect of the tensor paradigm that we are not covering here is that the learning process itself (back propagation and gradient descending) can also be unified as tensor operations. We will touch the network training in a later chapter. For now it suffices to say that modern AI has fully embraced the tensor representation paradigm. More innovations are coming our way as we start to represent maps, graphs, tables, code and even physical systems as tensors."
      ]
    },
    {
      "cell_type": "markdown",
      "id": "0f988fde",
      "metadata": {
        "id": "0f988fde"
      },
      "source": [
        "## <a name=\"conclusion\"> Conclusion\n",
        "\n",
        "The story of AI is fundamentally about the continuous search for better ways to represent the complexity of the world within computational systems. This evolution has brought us extraordinary capabilities, from the symbolic systems of early AI to its probabilistic extension and now tensors. If anything, it reminds us of the ingenuity of the human mind and the boundless potential of the machines we create."
      ]
    }
  ],
  "metadata": {
    "kernelspec": {
      "display_name": "Python 3 (ipykernel)",
      "language": "python",
      "name": "python3"
    },
    "language_info": {
      "codemirror_mode": {
        "name": "ipython",
        "version": 3
      },
      "file_extension": ".py",
      "mimetype": "text/x-python",
      "name": "python",
      "nbconvert_exporter": "python",
      "pygments_lexer": "ipython3",
      "version": "3.11.9"
    },
    "colab": {
      "provenance": [],
      "include_colab_link": true
    }
  },
  "nbformat": 4,
  "nbformat_minor": 5
}