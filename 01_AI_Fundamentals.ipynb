{
  "cells": [
    {
      "cell_type": "markdown",
      "metadata": {
        "id": "view-in-github",
        "colab_type": "text"
      },
      "source": [
        "<a href=\"https://colab.research.google.com/github/SeanOnamade/BasicProjects/blob/main/01_AI_Fundamentals.ipynb\" target=\"_parent\"><img src=\"https://colab.research.google.com/assets/colab-badge.svg\" alt=\"Open In Colab\"/></a>"
      ]
    },
    {
      "cell_type": "markdown",
      "id": "8e027144-2f63-4757-bb1c-6e910caa5769",
      "metadata": {
        "id": "8e027144-2f63-4757-bb1c-6e910caa5769"
      },
      "source": [
        "# Fundamentals\n",
        "Welcome to the first notebook in the AI Crash Course! In this notebook, we'll introduce the key concept of an **AI System**, as well as some of the fundamental intuitions that you'll need for your AI learning journey.\n",
        "\n",
        "We'll cover:\n",
        "\n",
        "1. What is (machine) learning and (artificial) intelligence?\n",
        "2. How are problems solved with machine learning (ML)?\n",
        "3. Python tooling that we'll leverage throughout the course.\n",
        "\n",
        "**Table of Contents:**\n",
        "1. [An overview of learning and intelligence](#overview_learning_intelligence)\n",
        "2. [A closer look at machine learning](#ml_closer_look)\n",
        "3. [Tools used for ML](#ml_tools)\n",
        "4. [Conclusion](#conclusion)"
      ]
    },
    {
      "cell_type": "markdown",
      "id": "6f2b5137-abeb-4504-aa00-e36e0f508f52",
      "metadata": {
        "id": "6f2b5137-abeb-4504-aa00-e36e0f508f52"
      },
      "source": [
        "## <a name=\"overview_learning_intelligence\">1. An overview of learning and intelligence\n",
        "Let's take a mile high view. What is learning and what is intelligence?"
      ]
    },
    {
      "cell_type": "markdown",
      "id": "09d71ef8-f528-42ab-8ed1-b69c22d11cab",
      "metadata": {
        "id": "09d71ef8-f528-42ab-8ed1-b69c22d11cab"
      },
      "source": [
        "### Human learning\n",
        "Before we discuss what machine learning is, it's worth first reflecting on human learning.\n",
        "\n",
        "Close your eyes and imagine a **cassowary**. Maybe you can't - maybe you've never heard of a cassowary. For the sake of argument, let's assume you haven't heard of a cassowary. How would you learn what a cassowary looks like? Obviously, you'd google it. And you'd be met with the following results:\n",
        "\n",
        "<details>\n",
        "<summary><b>Hey Google, what does a cassowary looks like? (click me)</b></summary>\n",
        "\n",
        "<div>\n",
        "<img src=\"resources/01-fundamentals/cassowary_2.jpeg\" width=\"400\"/>\n",
        "<img src=\"resources/01-fundamentals/cassowary_1.png\" width=\"400\"/>\n",
        "</div>\n",
        "\n",
        "</details>\n",
        "<br>\n",
        "\n",
        "Look at those images for a moment. Now close your eyes and imagine a cassowary. Assuming you don't have [aphantasia](https://en.wikipedia.org/wiki/Aphantasia), you will have had much more success this time around.\n",
        "\n",
        "What changed? Obviously, you learned something, but what is that something? From a shallow perspective, you learned the visual sensations that map to the word \"cassowary.\" Put simply, you learned what a cassowary looks like, and correspondingly, what a cassowary does not look like. With effortless ease, you could now distinguish a cassowary from a kiwi - or at least a cassowary from a rock."
      ]
    },
    {
      "cell_type": "markdown",
      "id": "45b46214-0538-4d93-b141-d139c5a0b71a",
      "metadata": {
        "jp-MarkdownHeadingCollapsed": true,
        "id": "45b46214-0538-4d93-b141-d139c5a0b71a"
      },
      "source": [
        "### Machine learning\n",
        "Machine learning works _similarly_. There is a lot of nuance here, but at a high level, machine learning is the ability of machines to learn (or improve performance) from experience.\n",
        "\n",
        "Classically, one way to do machine learning is with **supervised learning**, in which we provide example inputs and desired outputs for those inputs. This is essentially what you did when you looked at the two photos of cassowaries: we provided you with example visual inputs (images) and a label for those inputs (cassowary). The supervised analog for this would be to provide a model (or learning algorithm) with labeled images of cassowaries and images of non-cassowaries (kiwis, rocks, etc.). The model would use these examples to help it learn how to distinguish cassowaries from non-cassowaries.\n",
        "\n",
        "<div>\n",
        "<img src=\"resources/01-fundamentals/ml_supervised_learning.png\" width=\"500\"/>\n",
        "</div>\n",
        "\n",
        "But this is still focusing a bit narrowly. There are other types of learning outside of supervised learning and there are other critical components to intelligence outside of learning. So, let's take a step back and look at intelligent systems."
      ]
    },
    {
      "cell_type": "markdown",
      "id": "073ef369-8ea0-4fe4-90ac-7f43a17e3cab",
      "metadata": {
        "id": "073ef369-8ea0-4fe4-90ac-7f43a17e3cab"
      },
      "source": [
        "### Human intelligence\n",
        "Again, we'll start by contemplating human intelligence. Let's return to the cassowary example and pose a new question: if you did not have the vast search power of Google sitting at your fingertips - how would you learn what a cassowary looks like? Some suggestions:\n",
        "\n",
        "1. You could look up \"cassowary\" in a dictionary, where you might find something like: \"large ratite birds chiefly of New Guinea and northern Australia that have a horny casque on the head and are closely related to the emu.\" Knowing what an emu looks like gets you pretty far with a mental image, and a secondary dictionary search of \"ratite\" (a bird with a flat breastbone) \"casque\" (a piece of armor for the head) paints the image further.\n",
        "\n",
        "2. You could call your Australian pen pal and ask her to describe a cassowary. She would say that cassowaries are \"tall, sour-tempered turkeys whose physical appearance is incredibly suggestive of the genetic link between dinosaurs and birds.\" Again, you are able to form a mental image (however cartoonish).\n",
        "\n",
        "<div>\n",
        "<img src=\"resources/01-fundamentals/mean_cartoon_turkey.png\" width=\"300\"/>\n",
        "</div>\n",
        "\n",
        "Notice that all these ways of learning what a cassowary are slightly different - symbolic (words) vs. direct (image), visual (image/text) vs. auditory (pen pal). Why is all of this interesting? Because it starts to hint at the core ideas behind **intelligent systems**.\n",
        "\n",
        "As a human, you are not just a simple learning algorithm, but an intelligent system. When you looked at the photos of cassowaries, you didn't _just_ learn what a cassowary looked like - you captured a lot more information.  Maybe from the first photo, you learned (incorrectly, we might add) that cassowaries are happy, go-lucky creatures, always ready to smile for the camera. Perhaps you learned that a cassowary will never need mascara. Or maybe you just learned that you have a new favorite bird.\n",
        "\n",
        "As vastly intelligent systems, we are able to hold a complex representation of the world, where an image isn't just an image, but a mass of information connecting to various parts of our world representation. **Human intelligence is a system**, reliant on our sensory organs, a mind to comprehend them, and a world to comprehend.\n",
        "\n",
        "Despite all of that, sometimes even humans get simple image classification wrong."
      ]
    },
    {
      "cell_type": "markdown",
      "id": "3224c224-82f4-4b66-bb46-1b9b7adc9cf0",
      "metadata": {
        "jp-MarkdownHeadingCollapsed": true,
        "id": "3224c224-82f4-4b66-bb46-1b9b7adc9cf0"
      },
      "source": [
        "##### Click me"
      ]
    },
    {
      "cell_type": "markdown",
      "id": "27b4ae88-5d1c-4247-b6ff-38648a0b8456",
      "metadata": {
        "id": "27b4ae88-5d1c-4247-b6ff-38648a0b8456"
      },
      "source": [
        "<div>\n",
        "<img src=\"resources/01-fundamentals/look_at_all_those_chickens.gif\" width=\"300\"/>\n",
        "</div>"
      ]
    },
    {
      "cell_type": "markdown",
      "id": "c7004540-910a-49c8-8763-2a560c7ee788",
      "metadata": {
        "id": "c7004540-910a-49c8-8763-2a560c7ee788"
      },
      "source": [
        "But it's alright, as long as we're learning! :)"
      ]
    },
    {
      "cell_type": "markdown",
      "id": "ae119fb4-77f2-4c03-999c-e86067e4121f",
      "metadata": {
        "id": "ae119fb4-77f2-4c03-999c-e86067e4121f"
      },
      "source": [
        "### Artificial intelligence and AI systems\n",
        "Artificial intelligence has historically been loosely and amorphously defined. One common definition is \"the ability of a computer to perform tasks commonly associated with intelligent beings.\" (Notably, this does not mandate learning.) By this definition, a human-defined ruleset that allows a computer to play checkers with you is just as much \"AI\" as ChatGPT. Yet, they don't quite feel the same.\n",
        "\n",
        "Enter the idea of an AI system. While the checkers AI was a simple set of rules, ChatGPT has much more going on, including:\n",
        "1. The UX chat experience\n",
        "3. LLM(s) that power its text comprehension and synthesis\n",
        "4. The CRM and data that is leveraged.\n",
        "5. The backend logic which holds everything together - e.g. piping data, connecting user intent to API calling, making the API calls, etc.\n",
        "\n",
        "\n",
        "In other words, AI systems are more than just a model. Having a solid intuition of the various components of AI systems, how they work internally, and how they connect is essential to being an AI systems engineer. These systems will only continue to grow more multi-modal, more powerful, more capable of holding complex world representations, and it is important we grow with them."
      ]
    },
    {
      "cell_type": "markdown",
      "id": "b2823e29-56fc-45bd-89c8-be8dbdc008d4",
      "metadata": {
        "id": "b2823e29-56fc-45bd-89c8-be8dbdc008d4"
      },
      "source": [
        "## <a name=\"ml_closer_look\"> 2. A closer look at machine learning\n",
        "A significant portion of the Crash Course will be focused on the \"learning\" component of an AI system. In this notebook, we'll start to explore learning through the lens of _supervised learning_."
      ]
    },
    {
      "cell_type": "markdown",
      "id": "657247db-d1ef-4776-a1c2-a3053f98b2d8",
      "metadata": {
        "id": "657247db-d1ef-4776-a1c2-a3053f98b2d8"
      },
      "source": [
        "### Function approximation\n",
        "When you think of a function, you might think of a simple mathematical function like $e=mc^2$. However, we can define functions more broadly as _a process that maps an input to an output_. Example functions include:\n",
        "1. _Your standard mathematical function_ - e.g. Pythagorean Theorem; $c^2$ (output) is equal to $a^2 + b^2$ (input).\n",
        "2. _Complex physical processes_ - e.g. the weather; future weather conditions occurring (output) based on present/past conditions (input).\n",
        "3. _Language modeling_ - i.e. what is the most likely word (output) given the surrounding words (input)?\"\n",
        "\n",
        "In fact, basically any process can be defined as a function. If we know how the function works, we can predict how inputs will be mapped to outputs, which is extremely useful. The catch is that we rarely know what the function is doing to map these inputs to outputs. The function may be unknown or too complex to ever be enumerated (e.g. weather). This is called a **blackbox function**.\n",
        "\n",
        "Supervised learning is one response to this problem. By leveraging example inputs and their corresponding function outputs, supervised learning attempts to approximate our blackbox function. This can be seriously powerful. Let's take a look.\n",
        "\n",
        "Imagine we have the following simple linear function:"
      ]
    },
    {
      "cell_type": "code",
      "execution_count": null,
      "id": "11f553e7-9d20-4376-bcca-32c3580f395a",
      "metadata": {
        "id": "11f553e7-9d20-4376-bcca-32c3580f395a"
      },
      "outputs": [],
      "source": [
        "def blackbox_function(x: float) -> float:\n",
        "    y = 4*x + 5\n",
        "    return y"
      ]
    },
    {
      "cell_type": "markdown",
      "id": "4f8bf95f-2bf6-4d23-aef1-85e93ea489ae",
      "metadata": {
        "id": "4f8bf95f-2bf6-4d23-aef1-85e93ea489ae"
      },
      "source": [
        "Assume that we have no way of seeing what this function does. All we can do is input x values, run the function, and then look at the outputted y values."
      ]
    },
    {
      "cell_type": "code",
      "execution_count": null,
      "id": "2c6f7504-5a9e-4ab6-b554-857e8ed4cc71",
      "metadata": {
        "id": "2c6f7504-5a9e-4ab6-b554-857e8ed4cc71",
        "outputId": "660c986b-2d32-4ecb-e721-6f06471b70a9"
      },
      "outputs": [
        {
          "name": "stdout",
          "output_type": "stream",
          "text": [
            "x: 0, y: 5\n",
            "x: 1, y: 9\n",
            "x: 2, y: 13\n",
            "x: 3, y: 17\n",
            "x: 4, y: 21\n",
            "x: 5, y: 25\n",
            "x: 6, y: 29\n"
          ]
        }
      ],
      "source": [
        "import numpy as np\n",
        "\n",
        "# don't worry about this np.array business, we'll cover it later\n",
        "inputs = np.array([0, 1, 2, 3, 4, 5, 6])\n",
        "outputs = []\n",
        "for input in inputs:\n",
        "    output = blackbox_function(input)\n",
        "    outputs.append(output)\n",
        "    print(f\"x: {input}, y: {output}\")\n",
        "outputs = np.array(outputs)"
      ]
    },
    {
      "cell_type": "markdown",
      "id": "7f757a16-877d-4606-9302-a5b221e0f630",
      "metadata": {
        "id": "7f757a16-877d-4606-9302-a5b221e0f630"
      },
      "source": [
        "Even if you hadn't seen the contents of the function, you could probably figure out what this function does pretty quickly by plotting it (don't worry about the code here)"
      ]
    },
    {
      "cell_type": "code",
      "execution_count": null,
      "id": "84ee7403-b08f-4566-a529-0585aa962f15",
      "metadata": {
        "id": "84ee7403-b08f-4566-a529-0585aa962f15",
        "outputId": "2273fa5b-a5be-4b43-d018-83921498fcbd"
      },
      "outputs": [
        {
          "data": {
            "image/png": "[encoded data removed]",
            "text/plain": [
              "<Figure size 400x300 with 1 Axes>"
            ]
          },
          "metadata": {},
          "output_type": "display_data"
        }
      ],
      "source": [
        "from typing import Optional\n",
        "import matplotlib.pyplot as plt\n",
        "\n",
        "def plot(inputs: np.ndarray, outputs: np.ndarray, model_preds: Optional[list[float]] = None):\n",
        "    fig, ax = plt.subplots(figsize=(4, 3))\n",
        "\n",
        "    if model_preds is not None:\n",
        "        plt.scatter(inputs, outputs, label=\"true\")\n",
        "        plt.scatter(inputs, model_preds, color=\"red\", label=\"pred\")\n",
        "        plt.legend()\n",
        "    else:\n",
        "        plt.scatter(inputs, outputs)\n",
        "\n",
        "plot(inputs, outputs)"
      ]
    },
    {
      "cell_type": "markdown",
      "id": "4bc1894a-ce66-4669-8d38-1fc2ccc3fd3d",
      "metadata": {
        "id": "4bc1894a-ce66-4669-8d38-1fc2ccc3fd3d"
      },
      "source": [
        "It's simply a line with a slope of 4 and a y-intercept of 5 - i.e. $y = 4x + 5$.\n",
        "\n",
        "It turns out, this type of function is quite easy to learn using supervised learning. Because our blackbox function is just a simple linear function, we can use a [`LinearRegression` model](https://scikit-learn.org/stable/modules/generated/sklearn.linear_model.LinearRegression.html#sklearn.linear_model.LinearRegression) to approximate it. If you aren't familiar with \"linear regression\", you can find a million great explanations by simply googling \"linear regression explained\". Here's what our [resident LLM (Mistral 7B)](https://tools.hubteam.com/ai-playground) had to say about it:\n",
        "\n",
        "\"Linear regression is a statistical method that allows us to understand the relationship between two continuous variables by fitting a straight line through the data. In simpler terms, it enables us to predict the value of one variable (dependent variable) based on the value of another variable (independent variable). The line is \"linear\" because it has a constant slope, meaning the relationship between the variables is consistent. Imagine trying to draw a line through a set of points on a graph to best fit the trend. Linear regression helps us do just that and provides us with an equation of that line for making predictions.\"\n",
        "\n",
        "Not bad, eh? Now, let's train that model:"
      ]
    },
    {
      "cell_type": "code",
      "execution_count": null,
      "id": "8a2cc41c-6840-4bf5-90e1-796488a5224d",
      "metadata": {
        "id": "8a2cc41c-6840-4bf5-90e1-796488a5224d",
        "outputId": "c72022b5-594c-42e3-c845-26522bb0cbc5"
      },
      "outputs": [
        {
          "data": {
            "text/html": [
              "<style>#sk-container-id-1 {\n",
              "  /* Definition of color scheme common for light and dark mode */\n",
              "  --sklearn-color-text: black;\n",
              "  --sklearn-color-line: gray;\n",
              "  /* Definition of color scheme for unfitted estimators */\n",
              "  --sklearn-color-unfitted-level-0: #fff5e6;\n",
              "  --sklearn-color-unfitted-level-1: #f6e4d2;\n",
              "  --sklearn-color-unfitted-level-2: #ffe0b3;\n",
              "  --sklearn-color-unfitted-level-3: chocolate;\n",
              "  /* Definition of color scheme for fitted estimators */\n",
              "  --sklearn-color-fitted-level-0: #f0f8ff;\n",
              "  --sklearn-color-fitted-level-1: #d4ebff;\n",
              "  --sklearn-color-fitted-level-2: #b3dbfd;\n",
              "  --sklearn-color-fitted-level-3: cornflowerblue;\n",
              "\n",
              "  /* Specific color for light theme */\n",
              "  --sklearn-color-text-on-default-background: var(--sg-text-color, var(--theme-code-foreground, var(--jp-content-font-color1, black)));\n",
              "  --sklearn-color-background: var(--sg-background-color, var(--theme-background, var(--jp-layout-color0, white)));\n",
              "  --sklearn-color-border-box: var(--sg-text-color, var(--theme-code-foreground, var(--jp-content-font-color1, black)));\n",
              "  --sklearn-color-icon: #696969;\n",
              "\n",
              "  @media (prefers-color-scheme: dark) {\n",
              "    /* Redefinition of color scheme for dark theme */\n",
              "    --sklearn-color-text-on-default-background: var(--sg-text-color, var(--theme-code-foreground, var(--jp-content-font-color1, white)));\n",
              "    --sklearn-color-background: var(--sg-background-color, var(--theme-background, var(--jp-layout-color0, #111)));\n",
              "    --sklearn-color-border-box: var(--sg-text-color, var(--theme-code-foreground, var(--jp-content-font-color1, white)));\n",
              "    --sklearn-color-icon: #878787;\n",
              "  }\n",
              "}\n",
              "\n",
              "#sk-container-id-1 {\n",
              "  color: var(--sklearn-color-text);\n",
              "}\n",
              "\n",
              "#sk-container-id-1 pre {\n",
              "  padding: 0;\n",
              "}\n",
              "\n",
              "#sk-container-id-1 input.sk-hidden--visually {\n",
              "  border: 0;\n",
              "  clip: rect(1px 1px 1px 1px);\n",
              "  clip: rect(1px, 1px, 1px, 1px);\n",
              "  height: 1px;\n",
              "  margin: -1px;\n",
              "  overflow: hidden;\n",
              "  padding: 0;\n",
              "  position: absolute;\n",
              "  width: 1px;\n",
              "}\n",
              "\n",
              "#sk-container-id-1 div.sk-dashed-wrapped {\n",
              "  border: 1px dashed var(--sklearn-color-line);\n",
              "  margin: 0 0.4em 0.5em 0.4em;\n",
              "  box-sizing: border-box;\n",
              "  padding-bottom: 0.4em;\n",
              "  background-color: var(--sklearn-color-background);\n",
              "}\n",
              "\n",
              "#sk-container-id-1 div.sk-container {\n",
              "  /* jupyter's `normalize.less` sets `[hidden] { display: none; }`\n",
              "     but bootstrap.min.css set `[hidden] { display: none !important; }`\n",
              "     so we also need the `!important` here to be able to override the\n",
              "     default hidden behavior on the sphinx rendered scikit-learn.org.\n",
              "     See: https://github.com/scikit-learn/scikit-learn/issues/21755 */\n",
              "  display: inline-block !important;\n",
              "  position: relative;\n",
              "}\n",
              "\n",
              "#sk-container-id-1 div.sk-text-repr-fallback {\n",
              "  display: none;\n",
              "}\n",
              "\n",
              "div.sk-parallel-item,\n",
              "div.sk-serial,\n",
              "div.sk-item {\n",
              "  /* draw centered vertical line to link estimators */\n",
              "  background-image: linear-gradient(var(--sklearn-color-text-on-default-background), var(--sklearn-color-text-on-default-background));\n",
              "  background-size: 2px 100%;\n",
              "  background-repeat: no-repeat;\n",
              "  background-position: center center;\n",
              "}\n",
              "\n",
              "/* Parallel-specific style estimator block */\n",
              "\n",
              "#sk-container-id-1 div.sk-parallel-item::after {\n",
              "  content: \"\";\n",
              "  width: 100%;\n",
              "  border-bottom: 2px solid var(--sklearn-color-text-on-default-background);\n",
              "  flex-grow: 1;\n",
              "}\n",
              "\n",
              "#sk-container-id-1 div.sk-parallel {\n",
              "  display: flex;\n",
              "  align-items: stretch;\n",
              "  justify-content: center;\n",
              "  background-color: var(--sklearn-color-background);\n",
              "  position: relative;\n",
              "}\n",
              "\n",
              "#sk-container-id-1 div.sk-parallel-item {\n",
              "  display: flex;\n",
              "  flex-direction: column;\n",
              "}\n",
              "\n",
              "#sk-container-id-1 div.sk-parallel-item:first-child::after {\n",
              "  align-self: flex-end;\n",
              "  width: 50%;\n",
              "}\n",
              "\n",
              "#sk-container-id-1 div.sk-parallel-item:last-child::after {\n",
              "  align-self: flex-start;\n",
              "  width: 50%;\n",
              "}\n",
              "\n",
              "#sk-container-id-1 div.sk-parallel-item:only-child::after {\n",
              "  width: 0;\n",
              "}\n",
              "\n",
              "/* Serial-specific style estimator block */\n",
              "\n",
              "#sk-container-id-1 div.sk-serial {\n",
              "  display: flex;\n",
              "  flex-direction: column;\n",
              "  align-items: center;\n",
              "  background-color: var(--sklearn-color-background);\n",
              "  padding-right: 1em;\n",
              "  padding-left: 1em;\n",
              "}\n",
              "\n",
              "\n",
              "/* Toggleable style: style used for estimator/Pipeline/ColumnTransformer box that is\n",
              "clickable and can be expanded/collapsed.\n",
              "- Pipeline and ColumnTransformer use this feature and define the default style\n",
              "- Estimators will overwrite some part of the style using the `sk-estimator` class\n",
              "*/\n",
              "\n",
              "/* Pipeline and ColumnTransformer style (default) */\n",
              "\n",
              "#sk-container-id-1 div.sk-toggleable {\n",
              "  /* Default theme specific background. It is overwritten whether we have a\n",
              "  specific estimator or a Pipeline/ColumnTransformer */\n",
              "  background-color: var(--sklearn-color-background);\n",
              "}\n",
              "\n",
              "/* Toggleable label */\n",
              "#sk-container-id-1 label.sk-toggleable__label {\n",
              "  cursor: pointer;\n",
              "  display: block;\n",
              "  width: 100%;\n",
              "  margin-bottom: 0;\n",
              "  padding: 0.5em;\n",
              "  box-sizing: border-box;\n",
              "  text-align: center;\n",
              "}\n",
              "\n",
              "#sk-container-id-1 label.sk-toggleable__label-arrow:before {\n",
              "  /* Arrow on the left of the label */\n",
              "  content: \"▸\";\n",
              "  float: left;\n",
              "  margin-right: 0.25em;\n",
              "  color: var(--sklearn-color-icon);\n",
              "}\n",
              "\n",
              "#sk-container-id-1 label.sk-toggleable__label-arrow:hover:before {\n",
              "  color: var(--sklearn-color-text);\n",
              "}\n",
              "\n",
              "/* Toggleable content - dropdown */\n",
              "\n",
              "#sk-container-id-1 div.sk-toggleable__content {\n",
              "  max-height: 0;\n",
              "  max-width: 0;\n",
              "  overflow: hidden;\n",
              "  text-align: left;\n",
              "  /* unfitted */\n",
              "  background-color: var(--sklearn-color-unfitted-level-0);\n",
              "}\n",
              "\n",
              "#sk-container-id-1 div.sk-toggleable__content.fitted {\n",
              "  /* fitted */\n",
              "  background-color: var(--sklearn-color-fitted-level-0);\n",
              "}\n",
              "\n",
              "#sk-container-id-1 div.sk-toggleable__content pre {\n",
              "  margin: 0.2em;\n",
              "  border-radius: 0.25em;\n",
              "  color: var(--sklearn-color-text);\n",
              "  /* unfitted */\n",
              "  background-color: var(--sklearn-color-unfitted-level-0);\n",
              "}\n",
              "\n",
              "#sk-container-id-1 div.sk-toggleable__content.fitted pre {\n",
              "  /* unfitted */\n",
              "  background-color: var(--sklearn-color-fitted-level-0);\n",
              "}\n",
              "\n",
              "#sk-container-id-1 input.sk-toggleable__control:checked~div.sk-toggleable__content {\n",
              "  /* Expand drop-down */\n",
              "  max-height: 200px;\n",
              "  max-width: 100%;\n",
              "  overflow: auto;\n",
              "}\n",
              "\n",
              "#sk-container-id-1 input.sk-toggleable__control:checked~label.sk-toggleable__label-arrow:before {\n",
              "  content: \"▾\";\n",
              "}\n",
              "\n",
              "/* Pipeline/ColumnTransformer-specific style */\n",
              "\n",
              "#sk-container-id-1 div.sk-label input.sk-toggleable__control:checked~label.sk-toggleable__label {\n",
              "  color: var(--sklearn-color-text);\n",
              "  background-color: var(--sklearn-color-unfitted-level-2);\n",
              "}\n",
              "\n",
              "#sk-container-id-1 div.sk-label.fitted input.sk-toggleable__control:checked~label.sk-toggleable__label {\n",
              "  background-color: var(--sklearn-color-fitted-level-2);\n",
              "}\n",
              "\n",
              "/* Estimator-specific style */\n",
              "\n",
              "/* Colorize estimator box */\n",
              "#sk-container-id-1 div.sk-estimator input.sk-toggleable__control:checked~label.sk-toggleable__label {\n",
              "  /* unfitted */\n",
              "  background-color: var(--sklearn-color-unfitted-level-2);\n",
              "}\n",
              "\n",
              "#sk-container-id-1 div.sk-estimator.fitted input.sk-toggleable__control:checked~label.sk-toggleable__label {\n",
              "  /* fitted */\n",
              "  background-color: var(--sklearn-color-fitted-level-2);\n",
              "}\n",
              "\n",
              "#sk-container-id-1 div.sk-label label.sk-toggleable__label,\n",
              "#sk-container-id-1 div.sk-label label {\n",
              "  /* The background is the default theme color */\n",
              "  color: var(--sklearn-color-text-on-default-background);\n",
              "}\n",
              "\n",
              "/* On hover, darken the color of the background */\n",
              "#sk-container-id-1 div.sk-label:hover label.sk-toggleable__label {\n",
              "  color: var(--sklearn-color-text);\n",
              "  background-color: var(--sklearn-color-unfitted-level-2);\n",
              "}\n",
              "\n",
              "/* Label box, darken color on hover, fitted */\n",
              "#sk-container-id-1 div.sk-label.fitted:hover label.sk-toggleable__label.fitted {\n",
              "  color: var(--sklearn-color-text);\n",
              "  background-color: var(--sklearn-color-fitted-level-2);\n",
              "}\n",
              "\n",
              "/* Estimator label */\n",
              "\n",
              "#sk-container-id-1 div.sk-label label {\n",
              "  font-family: monospace;\n",
              "  font-weight: bold;\n",
              "  display: inline-block;\n",
              "  line-height: 1.2em;\n",
              "}\n",
              "\n",
              "#sk-container-id-1 div.sk-label-container {\n",
              "  text-align: center;\n",
              "}\n",
              "\n",
              "/* Estimator-specific */\n",
              "#sk-container-id-1 div.sk-estimator {\n",
              "  font-family: monospace;\n",
              "  border: 1px dotted var(--sklearn-color-border-box);\n",
              "  border-radius: 0.25em;\n",
              "  box-sizing: border-box;\n",
              "  margin-bottom: 0.5em;\n",
              "  /* unfitted */\n",
              "  background-color: var(--sklearn-color-unfitted-level-0);\n",
              "}\n",
              "\n",
              "#sk-container-id-1 div.sk-estimator.fitted {\n",
              "  /* fitted */\n",
              "  background-color: var(--sklearn-color-fitted-level-0);\n",
              "}\n",
              "\n",
              "/* on hover */\n",
              "#sk-container-id-1 div.sk-estimator:hover {\n",
              "  /* unfitted */\n",
              "  background-color: var(--sklearn-color-unfitted-level-2);\n",
              "}\n",
              "\n",
              "#sk-container-id-1 div.sk-estimator.fitted:hover {\n",
              "  /* fitted */\n",
              "  background-color: var(--sklearn-color-fitted-level-2);\n",
              "}\n",
              "\n",
              "/* Specification for estimator info (e.g. \"i\" and \"?\") */\n",
              "\n",
              "/* Common style for \"i\" and \"?\" */\n",
              "\n",
              ".sk-estimator-doc-link,\n",
              "a:link.sk-estimator-doc-link,\n",
              "a:visited.sk-estimator-doc-link {\n",
              "  float: right;\n",
              "  font-size: smaller;\n",
              "  line-height: 1em;\n",
              "  font-family: monospace;\n",
              "  background-color: var(--sklearn-color-background);\n",
              "  border-radius: 1em;\n",
              "  height: 1em;\n",
              "  width: 1em;\n",
              "  text-decoration: none !important;\n",
              "  margin-left: 1ex;\n",
              "  /* unfitted */\n",
              "  border: var(--sklearn-color-unfitted-level-1) 1pt solid;\n",
              "  color: var(--sklearn-color-unfitted-level-1);\n",
              "}\n",
              "\n",
              ".sk-estimator-doc-link.fitted,\n",
              "a:link.sk-estimator-doc-link.fitted,\n",
              "a:visited.sk-estimator-doc-link.fitted {\n",
              "  /* fitted */\n",
              "  border: var(--sklearn-color-fitted-level-1) 1pt solid;\n",
              "  color: var(--sklearn-color-fitted-level-1);\n",
              "}\n",
              "\n",
              "/* On hover */\n",
              "div.sk-estimator:hover .sk-estimator-doc-link:hover,\n",
              ".sk-estimator-doc-link:hover,\n",
              "div.sk-label-container:hover .sk-estimator-doc-link:hover,\n",
              ".sk-estimator-doc-link:hover {\n",
              "  /* unfitted */\n",
              "  background-color: var(--sklearn-color-unfitted-level-3);\n",
              "  color: var(--sklearn-color-background);\n",
              "  text-decoration: none;\n",
              "}\n",
              "\n",
              "div.sk-estimator.fitted:hover .sk-estimator-doc-link.fitted:hover,\n",
              ".sk-estimator-doc-link.fitted:hover,\n",
              "div.sk-label-container:hover .sk-estimator-doc-link.fitted:hover,\n",
              ".sk-estimator-doc-link.fitted:hover {\n",
              "  /* fitted */\n",
              "  background-color: var(--sklearn-color-fitted-level-3);\n",
              "  color: var(--sklearn-color-background);\n",
              "  text-decoration: none;\n",
              "}\n",
              "\n",
              "/* Span, style for the box shown on hovering the info icon */\n",
              ".sk-estimator-doc-link span {\n",
              "  display: none;\n",
              "  z-index: 9999;\n",
              "  position: relative;\n",
              "  font-weight: normal;\n",
              "  right: .2ex;\n",
              "  padding: .5ex;\n",
              "  margin: .5ex;\n",
              "  width: min-content;\n",
              "  min-width: 20ex;\n",
              "  max-width: 50ex;\n",
              "  color: var(--sklearn-color-text);\n",
              "  box-shadow: 2pt 2pt 4pt #999;\n",
              "  /* unfitted */\n",
              "  background: var(--sklearn-color-unfitted-level-0);\n",
              "  border: .5pt solid var(--sklearn-color-unfitted-level-3);\n",
              "}\n",
              "\n",
              ".sk-estimator-doc-link.fitted span {\n",
              "  /* fitted */\n",
              "  background: var(--sklearn-color-fitted-level-0);\n",
              "  border: var(--sklearn-color-fitted-level-3);\n",
              "}\n",
              "\n",
              ".sk-estimator-doc-link:hover span {\n",
              "  display: block;\n",
              "}\n",
              "\n",
              "/* \"?\"-specific style due to the `<a>` HTML tag */\n",
              "\n",
              "#sk-container-id-1 a.estimator_doc_link {\n",
              "  float: right;\n",
              "  font-size: 1rem;\n",
              "  line-height: 1em;\n",
              "  font-family: monospace;\n",
              "  background-color: var(--sklearn-color-background);\n",
              "  border-radius: 1rem;\n",
              "  height: 1rem;\n",
              "  width: 1rem;\n",
              "  text-decoration: none;\n",
              "  /* unfitted */\n",
              "  color: var(--sklearn-color-unfitted-level-1);\n",
              "  border: var(--sklearn-color-unfitted-level-1) 1pt solid;\n",
              "}\n",
              "\n",
              "#sk-container-id-1 a.estimator_doc_link.fitted {\n",
              "  /* fitted */\n",
              "  border: var(--sklearn-color-fitted-level-1) 1pt solid;\n",
              "  color: var(--sklearn-color-fitted-level-1);\n",
              "}\n",
              "\n",
              "/* On hover */\n",
              "#sk-container-id-1 a.estimator_doc_link:hover {\n",
              "  /* unfitted */\n",
              "  background-color: var(--sklearn-color-unfitted-level-3);\n",
              "  color: var(--sklearn-color-background);\n",
              "  text-decoration: none;\n",
              "}\n",
              "\n",
              "#sk-container-id-1 a.estimator_doc_link.fitted:hover {\n",
              "  /* fitted */\n",
              "  background-color: var(--sklearn-color-fitted-level-3);\n",
              "}\n",
              "</style><div id=\"sk-container-id-1\" class=\"sk-top-container\"><div class=\"sk-text-repr-fallback\"><pre>LinearRegression()</pre><b>In a Jupyter environment, please rerun this cell to show the HTML representation or trust the notebook. <br />On GitHub, the HTML representation is unable to render, please try loading this page with nbviewer.org.</b></div><div class=\"sk-container\" hidden><div class=\"sk-item\"><div class=\"sk-estimator fitted sk-toggleable\"><input class=\"sk-toggleable__control sk-hidden--visually\" id=\"sk-estimator-id-1\" type=\"checkbox\" checked><label for=\"sk-estimator-id-1\" class=\"sk-toggleable__label fitted sk-toggleable__label-arrow fitted\">&nbsp;&nbsp;LinearRegression<a class=\"sk-estimator-doc-link fitted\" rel=\"noreferrer\" target=\"_blank\" href=\"https://scikit-learn.org/1.4/modules/generated/sklearn.linear_model.LinearRegression.html\">?<span>Documentation for LinearRegression</span></a><span class=\"sk-estimator-doc-link fitted\">i<span>Fitted</span></span></label><div class=\"sk-toggleable__content fitted\"><pre>LinearRegression()</pre></div> </div></div></div></div>"
            ],
            "text/plain": [
              "LinearRegression()"
            ]
          },
          "execution_count": 4,
          "metadata": {},
          "output_type": "execute_result"
        }
      ],
      "source": [
        "from sklearn.linear_model import LinearRegression\n",
        "\n",
        "model = LinearRegression()\n",
        "model.fit(inputs.reshape(-1, 1), outputs) # Ignore the reshape function, it doesn't matter for our purposes"
      ]
    },
    {
      "cell_type": "markdown",
      "id": "e8a01c34-f970-4272-b33d-100ea3c400da",
      "metadata": {
        "id": "e8a01c34-f970-4272-b33d-100ea3c400da"
      },
      "source": [
        "\"Wait, that's it?\" Yup. Simple problems have simple solutions!\n",
        "\n",
        "But let's zoom into the learning, what exactly did our linear regression model learn? It learned the parameters that define a line that best fits our data, and the parameters that define a line are the slope and the y-intercept. In fact, we can print those out to make sure they match our blackbox function:"
      ]
    },
    {
      "cell_type": "code",
      "execution_count": null,
      "id": "fb2a0f85-14a2-4201-bd69-65604807fe3c",
      "metadata": {
        "id": "fb2a0f85-14a2-4201-bd69-65604807fe3c",
        "outputId": "6ec3c28c-5a7d-47b3-bdae-a883345bcf0c"
      },
      "outputs": [
        {
          "name": "stdout",
          "output_type": "stream",
          "text": [
            "Slope: 4.0, Y-Intercept: 5.0\n"
          ]
        }
      ],
      "source": [
        "print(f\"Slope: {model.coef_[0]}, Y-Intercept: {model.intercept_}\")"
      ]
    },
    {
      "cell_type": "markdown",
      "id": "1ddbb381-0ca9-445e-b50e-2b6448284c82",
      "metadata": {
        "id": "1ddbb381-0ca9-445e-b50e-2b6448284c82"
      },
      "source": [
        "We can now run the inputs through our trained model, and compare its predictions with the true values:"
      ]
    },
    {
      "cell_type": "code",
      "execution_count": null,
      "id": "9d9d3abb-1688-4d89-a9cd-e1407a950c2f",
      "metadata": {
        "id": "9d9d3abb-1688-4d89-a9cd-e1407a950c2f",
        "outputId": "cf4333a0-cc7b-4671-d9d8-92f8d6cbd9d7"
      },
      "outputs": [
        {
          "name": "stdout",
          "output_type": "stream",
          "text": [
            "x: 0, y_true: 5, y_pred: 5.0\n",
            "x: 1, y_true: 9, y_pred: 9.0\n",
            "x: 2, y_true: 13, y_pred: 13.0\n",
            "x: 3, y_true: 17, y_pred: 17.0\n",
            "x: 4, y_true: 21, y_pred: 21.0\n",
            "x: 5, y_true: 25, y_pred: 25.0\n",
            "x: 6, y_true: 29, y_pred: 29.0\n"
          ]
        },
        {
          "data": {
            "image/png": "[encoded data removed]",
            "text/plain": [
              "<Figure size 400x300 with 1 Axes>"
            ]
          },
          "metadata": {},
          "output_type": "display_data"
        }
      ],
      "source": [
        "model_outputs = model.predict(inputs.reshape(-1, 1))\n",
        "for input, output, model_output in zip(inputs, outputs, model_outputs):\n",
        "    print(f\"x: {input}, y_true: {output}, y_pred: {model_output}\")\n",
        "\n",
        "plot(inputs, outputs, model_outputs)"
      ]
    },
    {
      "cell_type": "markdown",
      "id": "26e1ce05-b21c-4283-b425-c9de49d28e1c",
      "metadata": {
        "id": "26e1ce05-b21c-4283-b425-c9de49d28e1c"
      },
      "source": [
        "You can't see the blue dots because the red dots perfectly cover them... In other words, perfect accuracy."
      ]
    },
    {
      "cell_type": "markdown",
      "id": "419e5fe0-d16a-4642-8dae-06534f78d07c",
      "metadata": {
        "id": "419e5fe0-d16a-4642-8dae-06534f78d07c"
      },
      "source": [
        "<div>\n",
        "<img src=\"resources/01-fundamentals/robot_dabbing.png\" width=\"300\"/>\n",
        "</div>"
      ]
    },
    {
      "cell_type": "markdown",
      "id": "a549331e-70d9-4d71-a1c2-495ce8cee6d9",
      "metadata": {
        "id": "a549331e-70d9-4d71-a1c2-495ce8cee6d9"
      },
      "source": [
        "### The realities of the real world\n",
        "Of course, in practice, things are rarely this easy! Let's go over common real-world complexities that make supervised learning hard."
      ]
    },
    {
      "cell_type": "markdown",
      "id": "00a91655-879e-4ac7-b5a3-e557ffa12f68",
      "metadata": {
        "id": "00a91655-879e-4ac7-b5a3-e557ffa12f68"
      },
      "source": [
        "#### Data problems\n",
        "In the real world, we often have to deal with problems in our dataset.\n",
        "\n",
        "- _Data quantity_ - Sometimes we simply don't have enough data for our model to learn. Neural networks are particularly reliant on having large amounts of training data to make good predictions.\n",
        "- _Data bias_ - Undesirable bias in the data can also be a concern. This is notoriously true with LLMs, which are trained on vast amounts of Internet text, and can produce biased, problematic text. As a more light-hearted example, lets say you wanted to train a language model to generate great Thanksgiving recipes. You train it on all the Thanksgiving recipes on the web, and you check its outputs. Looks great... except every generated recipe is for turkey or green bean casserole! The model has adapted to the biases in the data, and your vegan friend Steve is now out of luck, because if there's one thing Steve hates more than meat, it's green bean casserole.\n",
        "- _Data quality_ - Missing or inaccurate data are common issues when dealing with real world data. For instance, let's say you were making a model to predict the likelihood a contact will become a customer. Even if contact property X is the perfect property to help the model make this prediction, if only 5% of contacts have a value for this property, it's not going to do you much good.\n",
        "- _Noise_ - Data noise are unpredictable fluctuations in the data that result in decreased model accuracy. For instance, if we are using portal data to make predictions and the portal data has inaccuracies, our model accuracy will suffer.\n",
        "\n",
        "As an example, let's take a look at the effects of injecting noise into our blackbox function. Specifically, we'll add [Gaussian noise](https://en.wikipedia.org/wiki/Gaussian_noise) (don't worry about what Gaussian noise is if you haven't heard of it - just think random distortions to the data). In the real world this noise could be a result of any number of external, unpredictable factors."
      ]
    },
    {
      "cell_type": "code",
      "execution_count": null,
      "id": "7cd209a1-c282-4aee-8cf5-63e0b0f7d9a4",
      "metadata": {
        "id": "7cd209a1-c282-4aee-8cf5-63e0b0f7d9a4"
      },
      "outputs": [],
      "source": [
        "def blackbox_function_with_noise(x: float, noise_scale: float) -> float:\n",
        "    noise = rng.normal(scale=noise_scale)\n",
        "    y = 4*x + 5 + noise\n",
        "    return y"
      ]
    },
    {
      "cell_type": "markdown",
      "id": "0bb5bcd8-4796-4195-b5ea-f3e8012efb0c",
      "metadata": {
        "id": "0bb5bcd8-4796-4195-b5ea-f3e8012efb0c"
      },
      "source": [
        "The above blackbox function is the same as our previous blackbox function but with a bit of random noise added to the output. The amount of noise we add to the output is configurable with the `noise_scale` parameter.\n",
        "\n",
        "We can now run the same inputs through the function and see how the outputs are different:"
      ]
    },
    {
      "cell_type": "code",
      "execution_count": null,
      "id": "d6cec5eb-ebf7-4b8f-841f-d0e8bd3340e2",
      "metadata": {
        "scrolled": true,
        "id": "d6cec5eb-ebf7-4b8f-841f-d0e8bd3340e2",
        "outputId": "8efe0aba-c13e-410f-f506-4d1c473aadca"
      },
      "outputs": [
        {
          "data": {
            "image/png": "[encoded data removed]",
            "text/plain": [
              "<Figure size 400x300 with 1 Axes>"
            ]
          },
          "metadata": {},
          "output_type": "display_data"
        }
      ],
      "source": [
        "SEED = 32\n",
        "rng = np.random.default_rng(SEED) # Ensures replicability each time this cell is called\n",
        "noise_scale = 1 # Defines the amount of noise added\n",
        "data_points = 7 # Number of data points in our dataset\n",
        "\n",
        "inputs = np.arange(data_points) # equivalent to np.array([0, 1, ..., data_points-1])\n",
        "outputs = np.array([blackbox_function_with_noise(input, noise_scale) for input in inputs])\n",
        "plot(inputs, outputs)"
      ]
    },
    {
      "cell_type": "markdown",
      "id": "3598959a-ef1c-42e8-a68b-a6a8c041cbac",
      "metadata": {
        "id": "3598959a-ef1c-42e8-a68b-a6a8c041cbac"
      },
      "source": [
        "We can see that while there is a clear trend through the data points, there is no longer a single line that will go through all the points. If we train a `LinearRegression` model on this data, we will see something interesting:"
      ]
    },
    {
      "cell_type": "code",
      "execution_count": null,
      "id": "cd39b1c4-d9fe-4642-b191-da071fe9a9f3",
      "metadata": {
        "id": "cd39b1c4-d9fe-4642-b191-da071fe9a9f3",
        "outputId": "4d6406c4-af71-46f5-86dc-1166e0599907"
      },
      "outputs": [
        {
          "name": "stdout",
          "output_type": "stream",
          "text": [
            "Slope: 3.875746520509825, Y-Intercept: 5.584985232140507\n"
          ]
        },
        {
          "data": {
            "image/png": "[encoded data removed]",
            "text/plain": [
              "<Figure size 400x300 with 1 Axes>"
            ]
          },
          "metadata": {},
          "output_type": "display_data"
        }
      ],
      "source": [
        "model = LinearRegression()\n",
        "model.fit(inputs.reshape(-1, 1), outputs)\n",
        "print(f\"Slope: {model.coef_[0]}, Y-Intercept: {model.intercept_}\")\n",
        "plot(inputs, outputs, model.predict(inputs.reshape(-1, 1)))"
      ]
    },
    {
      "cell_type": "markdown",
      "id": "55cc14a9-367e-4beb-8246-1d74d039184f",
      "metadata": {
        "id": "55cc14a9-367e-4beb-8246-1d74d039184f"
      },
      "source": [
        "There are a couple of important observations to make here:\n",
        "1. Our model no longer fits our data perfectly :(\n",
        "2. Our trained model's parameters for slope and y-intercept no longer perfectly match the underlying slope and y-intercept of our blackbox function. Our model has a slope of `3.88` and a y-intercept `5.58`,compared to our function's slope of `4` and y-intercept of `5`."
      ]
    },
    {
      "cell_type": "markdown",
      "id": "440ad374-e422-44c4-a0f3-d1011efb231e",
      "metadata": {
        "id": "440ad374-e422-44c4-a0f3-d1011efb231e"
      },
      "source": [
        "⚒️ **Homework** ⚒️\n",
        "1. Try different values for `noise_scale` (e.g. `0.5`, `2`, and `5`). How does the amount of noise applied to our blackbox function affect our model accuracy?\n",
        "2. What happens to the model's learned slope and y-intercept parameters when we use more data points? (This may give you some insight into the benefit of having more data.)"
      ]
    },
    {
      "cell_type": "code",
      "execution_count": null,
      "id": "9095b77f-7610-4214-8313-92d11a35cf5a",
      "metadata": {
        "id": "9095b77f-7610-4214-8313-92d11a35cf5a"
      },
      "outputs": [],
      "source": [
        "# Config data\n",
        "rng = np.random.default_rng(SEED)\n",
        "noise_scale = 1 # Homework 1: try different noise scales\n",
        "data_points = 7 # Homework 2: try different amounts of data\n",
        "\n",
        "# Create data\n",
        "inputs = np.arange(data_points)\n",
        "outputs = np.array([blackbox_function_with_noise(input, noise_scale) for input in inputs])\n",
        "\n",
        "# Train model\n",
        "model = LinearRegression().fit(inputs.reshape(-1, 1), outputs)\n",
        "\n",
        "# Uncomment to print/plot results\n",
        "# print(f\"Slope: {model.coef_[0]}, Y-Intercept: {model.intercept_}\")\n",
        "# plot(inputs, outputs, model.predict(inputs.reshape(-1, 1)))"
      ]
    },
    {
      "cell_type": "markdown",
      "id": "df42f556-3226-4495-8168-34c8ffbd3009",
      "metadata": {
        "id": "df42f556-3226-4495-8168-34c8ffbd3009"
      },
      "source": [
        "One final point about the effects of noise on our model: let's try using our model on inputs outside of the range that we initially trained on (0 - 6) and plot the absolute error (i.e. the absolute difference between the real output and the model prediction)."
      ]
    },
    {
      "cell_type": "code",
      "execution_count": null,
      "id": "f922c543-a996-4791-a245-5d07cb0be27c",
      "metadata": {
        "id": "f922c543-a996-4791-a245-5d07cb0be27c",
        "outputId": "8946c9fb-baf4-4e56-b569-fe96185b96a9"
      },
      "outputs": [
        {
          "name": "stdout",
          "output_type": "stream",
          "text": [
            "x: 10, absolute error: 1.1341635467967777\n",
            "x: 100, absolute error: 9.774014630667068\n",
            "x: 1000, absolute error: 122.60955867222174\n",
            "x: 10000, absolute error: 1241.3302376151332\n"
          ]
        }
      ],
      "source": [
        "extrapolated_inputs = np.array([10, 100, 1_000, 10_000])\n",
        "extrapolated_outputs = np.array([\n",
        "    blackbox_function_with_noise(input, noise_scale) for input in extrapolated_inputs\n",
        "])\n",
        "model_predictions = model.predict(extrapolated_inputs.reshape(-1, 1))\n",
        "for input, output, pred in zip(extrapolated_inputs, extrapolated_outputs, model_predictions):\n",
        "    print(f\"x: {input}, absolute error: {abs(output-pred)}\")"
      ]
    },
    {
      "cell_type": "markdown",
      "id": "56fa4223-72f2-4de0-a92b-a7d347ac013e",
      "metadata": {
        "id": "56fa4223-72f2-4de0-a92b-a7d347ac013e"
      },
      "source": [
        "Wow, as our input values gets farther from the input values we trained on, our model predictions get worse and worse. Our error actually scales linearly with our input (consider why this might be the case).\n",
        "\n",
        "This is just a sneak peak at the problem of extrapolating our model to data outside of the range of input data that we trained with."
      ]
    },
    {
      "cell_type": "markdown",
      "id": "c13f3392-e347-4aaf-b28a-fd61d35b1329",
      "metadata": {
        "id": "c13f3392-e347-4aaf-b28a-fd61d35b1329"
      },
      "source": [
        "#### Model choice\n",
        "Data is pivotal to solving an ML problem, but we also need to be careful to choose a model that is well-suited for the function that we want to approximate. If our choice of model is not well-suited for the function, we will run into issues. For example, no matter how hard it tries, a linear regression model will never be able to learn a sine function."
      ]
    },
    {
      "cell_type": "markdown",
      "id": "5c96b738-5fd8-475f-a40f-8654cb839b9d",
      "metadata": {
        "id": "5c96b738-5fd8-475f-a40f-8654cb839b9d"
      },
      "source": [
        "⚒️ **Homework** ⚒️\n",
        "\n",
        "Create a function that is hard (or impossible) for the LinearRegression model to learn."
      ]
    },
    {
      "cell_type": "code",
      "execution_count": null,
      "id": "f96d2d30-a6a8-43fa-9882-74ae85bc87d1",
      "metadata": {
        "id": "f96d2d30-a6a8-43fa-9882-74ae85bc87d1"
      },
      "outputs": [],
      "source": [
        "import math # The math library may be useful\n",
        "\n",
        "def hard_function(x: float):\n",
        "    y = None\n",
        "    # Homework: Define a function of y that is hard for LinearRegression to learn\n",
        "    return y\n",
        "\n",
        "# Uncomment the section below and run the code block when you've defined your function\n",
        "# data_points = 10\n",
        "# inputs = np.arange(data_points)\n",
        "# hard_to_predict_outputs = [hard_function(x) for x in inputs]\n",
        "# model = LinearRegression()\n",
        "# model.fit(inputs.reshape(-1, 1), hard_to_predict_outputs)\n",
        "# plot(inputs, hard_to_predict_outputs, model.predict(inputs.reshape(-1, 1)))"
      ]
    },
    {
      "cell_type": "markdown",
      "id": "b9aa3f21-6cc7-453b-b0f2-46aadc3a5c14",
      "metadata": {
        "id": "b9aa3f21-6cc7-453b-b0f2-46aadc3a5c14"
      },
      "source": [
        "#### Imperfect problem definition\n",
        "Most real-world prediction problems deal with predicting a complicated real-world function, which we must define in a way that allows us to build a model. Take deal scoring for example. In deal scoring, we try to predict the probability that a portal will win a particular deal. What real world phenomena dictate whether a deal will be won? Macroeconomic conditions, the content of communications between the sales rep and the potential customer, product fit - all reasonable and just a small subset of the endless factors that may be a part of this function. There is no way to enumerate all of these factors, much less collect all of this data.\n",
        "\n",
        "So, instead, we define a simpler representation of the problem. Rather than take all these real world factors into account, we can instead constrain our problem to something like this:\n",
        "\n",
        "_What is the probability a portal will win a deal given the CRM property data we have on the deal and its associated contacts and companies?_\n",
        "\n",
        "Now that's doable!"
      ]
    },
    {
      "cell_type": "markdown",
      "id": "92802cca-978c-4e44-990b-f04715a3e537",
      "metadata": {
        "id": "92802cca-978c-4e44-990b-f04715a3e537"
      },
      "source": [
        "One important thing to remember is that whatever abstractions or simplifications you make to the problem definition _have_ to make sense with the real world problem. For instance, if we want to predict whether a customer will churn, we are going to fail if we base this on an uninformative input data such as `times_customer_coughed_in_calls`:"
      ]
    },
    {
      "cell_type": "code",
      "execution_count": null,
      "id": "749aac35-f293-4e05-9261-92263534a8a6",
      "metadata": {
        "id": "749aac35-f293-4e05-9261-92263534a8a6",
        "outputId": "73ebc1bb-6e61-4871-e02c-afb6a13dfd00"
      },
      "outputs": [
        {
          "name": "stdout",
          "output_type": "stream",
          "text": [
            "Accuracy: 50.0%\n",
            "\n",
            "Remember: 50% accuracy = random guessing\n"
          ]
        }
      ],
      "source": [
        "from sklearn.linear_model import LogisticRegression\n",
        "\n",
        "# Input data\n",
        "times_customer_coughed_in_calls = np.array([0, 500, 1, 100, 32, 17, 2, 5])\n",
        "customer_churned = np.array([False, True, True, False, False, True, False, True]).astype(int)\n",
        "inputs = times_customer_coughed_in_calls\n",
        "outputs = customer_churned\n",
        "\n",
        "# Don't worry about what logistic regression is for now, it is a classification model\n",
        "model = LogisticRegression()\n",
        "model.fit(inputs.reshape(-1, 1), outputs)\n",
        "\n",
        "print(f\"Accuracy: {model.score(inputs.reshape(-1, 1), outputs)*100}%\")\n",
        "print(\"\\nRemember: 50% accuracy = random guessing\")"
      ]
    },
    {
      "cell_type": "markdown",
      "id": "bc3616d3-3306-4739-99da-29326c367d76",
      "metadata": {
        "id": "bc3616d3-3306-4739-99da-29326c367d76"
      },
      "source": [
        "While using an informative feature like NPS will work much better:"
      ]
    },
    {
      "cell_type": "code",
      "execution_count": null,
      "id": "5e5de303-c379-4437-9004-ab35a8f8dc35",
      "metadata": {
        "scrolled": true,
        "id": "5e5de303-c379-4437-9004-ab35a8f8dc35",
        "outputId": "e71ec2ea-4e0b-4245-be23-244a041d2c00"
      },
      "outputs": [
        {
          "name": "stdout",
          "output_type": "stream",
          "text": [
            "Accuracy: 100.0%\n"
          ]
        }
      ],
      "source": [
        "customer_nps = np.array([100, -100, 5, 42, 71, -4, 33, 3])\n",
        "inputs = customer_nps\n",
        "\n",
        "model = LogisticRegression()\n",
        "model.fit(inputs.reshape(-1, 1), outputs)\n",
        "\n",
        "print(f\"Accuracy: {model.score(inputs.reshape(-1, 1), outputs)*100}%\")"
      ]
    },
    {
      "cell_type": "markdown",
      "id": "78faf95a-273e-427c-b04b-d785b2fe3529",
      "metadata": {
        "id": "78faf95a-273e-427c-b04b-d785b2fe3529"
      },
      "source": [
        "Nice, perfect prediction once more!\n",
        "\n",
        "Obviously this example is a bit contrived, but the essential intuition stands: **no matter how good your data is, garbage in, garbage out**."
      ]
    },
    {
      "cell_type": "markdown",
      "id": "fb8f27e7-9e5b-41c5-91f5-e09e6b987dcc",
      "metadata": {
        "id": "fb8f27e7-9e5b-41c5-91f5-e09e6b987dcc"
      },
      "source": [
        "#### Correlation vs. causation\n",
        "Before moving on, it's worth mentioning the idea of _correlation vs. causation_. While previously we looked at input data that was uninformative of what we wanted to predict, there can be another situation in which our input _is_ informative of our output; however, the relationship is circumstantial or misleading. Take the classic statistics example of: “As ice cream sales go up, shark attacks go up!” This relationship may hold true, but removing all ice cream trucks would certainly not solve the problem of shark attacks.\n",
        "\n",
        "Ultimately, it's essential that when solving problems with AI, we really understand the connection between the data and what we want to predict.\n",
        "\n",
        "⚒️ **Homework** ⚒️\n",
        "\n",
        "Consider why there exists a positive correlation between ice cream sales and shark attacks. Can you think of examples in your own work where data can be misleading?"
      ]
    },
    {
      "cell_type": "markdown",
      "id": "6b17f2aa-b194-4409-90c0-21becc6c2e4c",
      "metadata": {
        "id": "6b17f2aa-b194-4409-90c0-21becc6c2e4c"
      },
      "source": [
        "## <a name=\"ml_tools\">  3. Tools used for ML\n",
        "Finally, we'll finish off this notebook by introducing some of the ML tooling you'll see throughout the rest of the AI Crash Course. There is no need to become an expert in these libraries, we simply want you to gain a high-level intuition on how they are used."
      ]
    },
    {
      "cell_type": "markdown",
      "id": "7d56dba7-6427-49b9-8e70-ab2781fa9505",
      "metadata": {
        "id": "7d56dba7-6427-49b9-8e70-ab2781fa9505"
      },
      "source": [
        "### NumPy\n",
        "[NumPy](https://numpy.org/), or more commonly numpy, is a tool that provides functionality for \"scientific computing.\" Because Python is in interpreted language rather than a compiled language, operations over large amounts of data would be prohibitively slow. NumPy allows you to perform these operations quickly by acting as a wrapper around data manipulation libraries implemented in lower-level languages like C.\n",
        "\n",
        "Most notably, the package comes with a ton of powerful functionality for working with multidimensional arrays (or `ndarray`'s)."
      ]
    },
    {
      "cell_type": "markdown",
      "id": "affe532a-29b7-4ef8-90ed-e7dc3465c5e3",
      "metadata": {
        "id": "affe532a-29b7-4ef8-90ed-e7dc3465c5e3"
      },
      "source": [
        "We can initialize data nd.arrays as so:"
      ]
    },
    {
      "cell_type": "code",
      "execution_count": null,
      "id": "730fc3ea-d0a8-40bc-8b3c-ff23a984cd04",
      "metadata": {
        "id": "730fc3ea-d0a8-40bc-8b3c-ff23a984cd04",
        "outputId": "d2c637da-904c-4b20-f757-85016cacf79b"
      },
      "outputs": [
        {
          "name": "stdout",
          "output_type": "stream",
          "text": [
            "[1 2 3]\n",
            "[[1 2]\n",
            " [3 4]]\n",
            "[[[0. 0. 0.]\n",
            "  [0. 0. 0.]]]\n"
          ]
        }
      ],
      "source": [
        "array_manual_1d = np.array([1, 2, 3]) # Create 1-d array\n",
        "array_manual_2d = np.array([[1, 2], [3, 4]]) # Create 2-d array\n",
        "\n",
        "shape = (1, 2, 3)\n",
        "array_zeros = np.zeros(shape) # Create 3-dim array of zeros with shape 1x2x3\n",
        "print(array_manual_1d)\n",
        "print(array_manual_2d)\n",
        "print(array_zeros)"
      ]
    },
    {
      "cell_type": "markdown",
      "id": "92e08649-77ed-4438-820e-de6f861a6dc5",
      "metadata": {
        "id": "92e08649-77ed-4438-820e-de6f861a6dc5"
      },
      "source": [
        "We can run all kinds of routines on arrays:"
      ]
    },
    {
      "cell_type": "code",
      "execution_count": null,
      "id": "5de0d051-de54-490f-9327-95533dca9ecc",
      "metadata": {
        "id": "5de0d051-de54-490f-9327-95533dca9ecc",
        "outputId": "463b6bc4-022d-4abd-f644-b91dff6f5bd5"
      },
      "outputs": [
        {
          "name": "stdout",
          "output_type": "stream",
          "text": [
            "[[1. 1.]\n",
            " [1. 1.]]\n",
            "[[10. 10.]\n",
            " [10. 10.]]\n",
            "[[200. 200.]\n",
            " [200. 200.]]\n",
            "[[40000. 40000.]\n",
            " [40000. 40000.]]\n"
          ]
        }
      ],
      "source": [
        "small = np.ones((2, 2)) # Create 2x2 array of ones\n",
        "medium = small * 10 # Multiply all values by 10\n",
        "big = np.matmul(medium, medium) # Matrix multiply to get even bigger\n",
        "moores_law = np.power(big, 2) # Square each value\n",
        "print(small)\n",
        "print(medium)\n",
        "print(big)\n",
        "print(moores_law)"
      ]
    },
    {
      "cell_type": "markdown",
      "id": "f13342ce-1fbb-4554-b563-5b2809fa3ece",
      "metadata": {
        "id": "f13342ce-1fbb-4554-b563-5b2809fa3ece"
      },
      "source": [
        "We can even make ASCII *art*."
      ]
    },
    {
      "cell_type": "code",
      "execution_count": null,
      "id": "c2409517-786f-42c6-8628-0d17501caebc",
      "metadata": {
        "id": "c2409517-786f-42c6-8628-0d17501caebc",
        "outputId": "68c732d1-510b-4a46-b491-82d0b79dfc66"
      },
      "outputs": [
        {
          "name": "stdout",
          "output_type": "stream",
          "text": [
            "                    \n",
            "                    \n",
            "    O         O     \n",
            "                    \n",
            "  x             x   \n",
            "    x         x     \n",
            "      x x x x       \n",
            "                    \n",
            "                    \n",
            "                    \n",
            "It's a bit spooky...\n"
          ]
        }
      ],
      "source": [
        "def render_ndarray_picture(array: np.ndarray):\n",
        "    for row in array:\n",
        "        for cell in row:\n",
        "            print(cell, end=\" \")\n",
        "        print()\n",
        "\n",
        "def draw_smiley_face():\n",
        "    face = np.full((10, 10), \" \") # Create our canvas\n",
        "\n",
        "    # Create the eyes\n",
        "    x_idxs = [2, 7]\n",
        "    y_idxs = [2, 2]\n",
        "    eyes_index = (y_idxs, x_idxs)\n",
        "    face[eyes_index] = \"O\"\n",
        "\n",
        "    # Create the smile\n",
        "    x_idxs = [1, 2, 3, 4, 5, 6, 7, 8] # x-axis goes from left to right\n",
        "    y_idxs = [4, 5, 6, 6, 6, 6, 5, 4] # y-axis goes from top to bottom\n",
        "    smile_index = (y_idxs, x_idxs)\n",
        "    face[smile_index] = \"x\"\n",
        "\n",
        "    # Draw the little guy\n",
        "    render_ndarray_picture(face)\n",
        "\n",
        "draw_smiley_face()\n",
        "print(\"It's a bit spooky...\")"
      ]
    },
    {
      "cell_type": "markdown",
      "id": "df53fa93-32a4-4f29-9dca-e2b2033a9923",
      "metadata": {
        "id": "df53fa93-32a4-4f29-9dca-e2b2033a9923"
      },
      "source": [
        "⚒️ **Homework** ⚒️\n",
        "\n",
        "Now it's your turn, draw your own picture with numpy! Play around with indexing and creating your own arrays!"
      ]
    },
    {
      "cell_type": "code",
      "execution_count": null,
      "id": "c7c0ae07-06a1-44db-b1a6-5fb386719a4a",
      "metadata": {
        "id": "c7c0ae07-06a1-44db-b1a6-5fb386719a4a",
        "outputId": "a9433741-4c82-473b-c2d0-a09260f08397"
      },
      "outputs": [
        {
          "name": "stdout",
          "output_type": "stream",
          "text": [
            "                    \n",
            "                    \n",
            "                    \n",
            "                    \n",
            "                    \n",
            "                    \n",
            "                    \n",
            "                    \n",
            "                    \n",
            "                    \n"
          ]
        }
      ],
      "source": [
        "def my_drawing_function():\n",
        "    canvas = np.full((10, 10), \" \") # Feel free to change the size\n",
        "\n",
        "    # Homework: Fill your canvas\n",
        "    # ...\n",
        "\n",
        "    # Render\n",
        "    render_ndarray_picture(canvas)\n",
        "\n",
        "my_drawing_function()"
      ]
    },
    {
      "cell_type": "markdown",
      "id": "c4b21672-9024-42e0-ba17-b74083be447d",
      "metadata": {
        "id": "c4b21672-9024-42e0-ba17-b74083be447d"
      },
      "source": [
        "### Pandas\n",
        "[Pandas](https://pandas.pydata.org/) is a popular data analysis tool often used for working with tabular data (i.e. data that looks like a SQL table). It is very helpful for exploratory data analyses, where the goal is to really _understand_ the dataset, whether that's by calculating statistics or directly visualizing the data. Pandas is heavily inspired by the user experience of the [R language](https://pandas.pydata.org/docs/getting_started/comparison/comparison_with_r.html)."
      ]
    },
    {
      "cell_type": "code",
      "execution_count": null,
      "id": "fa72e846-c15b-45d9-9403-35a4798722ca",
      "metadata": {
        "id": "fa72e846-c15b-45d9-9403-35a4798722ca"
      },
      "outputs": [],
      "source": [
        "import pandas as pd"
      ]
    },
    {
      "cell_type": "markdown",
      "id": "b30b6d9a-81fa-437b-b012-7f7c175b9404",
      "metadata": {
        "id": "b30b6d9a-81fa-437b-b012-7f7c175b9404"
      },
      "source": [
        "The two most important data structures in Pandas are the Series and the DataFrame, the former for 1D data and the latter for 2D data."
      ]
    },
    {
      "cell_type": "code",
      "execution_count": null,
      "id": "72500249-c978-4126-aaff-4f36b00279ae",
      "metadata": {
        "id": "72500249-c978-4126-aaff-4f36b00279ae",
        "outputId": "b994ad39-1034-4774-ff3a-f4fda318f72b"
      },
      "outputs": [
        {
          "data": {
            "text/plain": [
              "0    a\n",
              "1    b\n",
              "2    c\n",
              "Name: series_name, dtype: object"
            ]
          },
          "execution_count": 20,
          "metadata": {},
          "output_type": "execute_result"
        }
      ],
      "source": [
        "pd.Series([\"a\", \"b\", \"c\"], name=\"series_name\")"
      ]
    },
    {
      "cell_type": "code",
      "execution_count": null,
      "id": "f7ad3dbf-fbcc-4013-9a28-79e8baefc114",
      "metadata": {
        "id": "f7ad3dbf-fbcc-4013-9a28-79e8baefc114",
        "outputId": "bb093ec2-0361-4741-dea8-48b8b289a31b"
      },
      "outputs": [
        {
          "data": {
            "text/html": [
              "<div>\n",
              "<style scoped>\n",
              "    .dataframe tbody tr th:only-of-type {\n",
              "        vertical-align: middle;\n",
              "    }\n",
              "\n",
              "    .dataframe tbody tr th {\n",
              "        vertical-align: top;\n",
              "    }\n",
              "\n",
              "    .dataframe thead th {\n",
              "        text-align: right;\n",
              "    }\n",
              "</style>\n",
              "<table border=\"1\" class=\"dataframe\">\n",
              "  <thead>\n",
              "    <tr style=\"text-align: right;\">\n",
              "      <th></th>\n",
              "      <th>apples_acquired</th>\n",
              "      <th>jams_jarred</th>\n",
              "      <th>squashes_squatted</th>\n",
              "    </tr>\n",
              "  </thead>\n",
              "  <tbody>\n",
              "    <tr>\n",
              "      <th>John</th>\n",
              "      <td>2</td>\n",
              "      <td>10.0</td>\n",
              "      <td>4</td>\n",
              "    </tr>\n",
              "    <tr>\n",
              "      <th>Jane</th>\n",
              "      <td>5</td>\n",
              "      <td>50.0</td>\n",
              "      <td>6</td>\n",
              "    </tr>\n",
              "    <tr>\n",
              "      <th>Joe</th>\n",
              "      <td>9730</td>\n",
              "      <td>NaN</td>\n",
              "      <td>2</td>\n",
              "    </tr>\n",
              "  </tbody>\n",
              "</table>\n",
              "</div>"
            ],
            "text/plain": [
              "      apples_acquired  jams_jarred  squashes_squatted\n",
              "John                2         10.0                  4\n",
              "Jane                5         50.0                  6\n",
              "Joe              9730          NaN                  2"
            ]
          },
          "execution_count": 21,
          "metadata": {},
          "output_type": "execute_result"
        }
      ],
      "source": [
        "my_friends = pd.DataFrame(\n",
        "    data={\n",
        "        \"apples_acquired\": [2, 5, 9730],\n",
        "        \"jams_jarred\": [10, 50, np.nan], # Joe failed to submit his jams jarred in time\n",
        "        \"squashes_squatted\": [4, 6, 2],\n",
        "    },\n",
        "    index=[\"John\", \"Jane\", \"Joe\"]\n",
        ")\n",
        "my_friends"
      ]
    },
    {
      "cell_type": "markdown",
      "id": "22b03325-2dd8-4b4e-bdaf-65787bc82048",
      "metadata": {
        "id": "22b03325-2dd8-4b4e-bdaf-65787bc82048"
      },
      "source": [
        "⚒️ **Homework** ⚒️\n",
        "\n",
        "Answer the following questions:\n",
        "1. What is the mean number of apples acquired? Median?\n",
        "2. What is the standard deviation of jams jarred?\n",
        "3. What is the maximum number of squashes squatted?\n",
        "\n",
        "This may sound like a lot of work 👀 but maybe do a quick google search of the Pandas `describe` function..."
      ]
    },
    {
      "cell_type": "code",
      "execution_count": null,
      "id": "b2bea3e2-3a80-4b6c-8aa6-906b5bab363b",
      "metadata": {
        "id": "b2bea3e2-3a80-4b6c-8aa6-906b5bab363b"
      },
      "outputs": [],
      "source": [
        "# Homework: Answer the questions above"
      ]
    },
    {
      "cell_type": "markdown",
      "id": "39f75c1b-f9b6-4d1e-bf08-0fcdd5995fbd",
      "metadata": {
        "id": "39f75c1b-f9b6-4d1e-bf08-0fcdd5995fbd"
      },
      "source": [
        "### Scikit-learn\n",
        "[Scikit-learn](https://scikit-learn.org/stable/) is an ML staple, chock-full of tools for data preprocessing, dimensionality reduction, model creation, training, and evaluation. Notably, the library is most useful for tabular data, where traditional ML techniques such as random forests and gradient boosting algorithms shine.\n",
        "\n",
        "Earlier we used the `LinearRegression` and `LogisticRegression` models from scikit-learn; now, we'll show a more formal example of the package in action.\n",
        "\n",
        "We'll be training a model on the classic Iris dataset. This dataset has 150 samples of three species (50 per species) of Iris flowers; each sample has four features: the length and the width of the sepals and petals, in centimeters. The goal is to predict the species of flower based on the features. You can learn more about the dataset on the [scikit-learn page for the dataset](https://scikit-learn.org/stable/auto_examples/datasets/plot_iris_dataset.html).\n",
        "\n",
        "Remember, don't worry too much about the specifics of what's happening below - there are plenty of notebooks left to help you build these intuitions."
      ]
    },
    {
      "cell_type": "code",
      "execution_count": null,
      "id": "cc4befd9-fe30-4427-82d7-749e322419b5",
      "metadata": {
        "id": "cc4befd9-fe30-4427-82d7-749e322419b5",
        "outputId": "ca8a4935-bdea-448e-ddef-e8c63a3344c2"
      },
      "outputs": [
        {
          "name": "stdout",
          "output_type": "stream",
          "text": [
            "Num samples: 150, Number of features: 4\n",
            "Valid labels: [0 1 2]\n",
            "Train size: 120, Test size: 30\n",
            "Sample before scaling: [5.7 2.6 3.5 1. ], after scaling: [-0.21239804 -1.02330655 -0.18295375 -0.29946446]\n",
            "\n",
            "Fitting model with train data...\n",
            "Running model on test data...\n",
            "Accuracy: 100.00%\n"
          ]
        }
      ],
      "source": [
        "from sklearn import datasets\n",
        "from sklearn.model_selection import train_test_split\n",
        "from sklearn.preprocessing import StandardScaler\n",
        "from sklearn.svm import SVC # Support Vector Machine (SVM) for classification\n",
        "from sklearn.metrics import accuracy_score\n",
        "\n",
        "############ DATA PREP ############\n",
        "# Load the data\n",
        "iris = datasets.load_iris()\n",
        "X = iris.data # Features\n",
        "y = iris.target # Labels\n",
        "print(f\"Num samples: {X.shape[0]}, Number of features: {X.shape[1]}\")\n",
        "print(f\"Valid labels: {np.unique(y)}\")\n",
        "\n",
        "# Split the data into train and test sets.\n",
        "# A test set allows us to be more confident that the metrics we report are accurate to unseen data.\n",
        "X_train, X_test, y_train, y_test = train_test_split(X, y, test_size=0.2, random_state=32)\n",
        "X_train.shape, X_test.shape, y_train.shape, y_test.shape\n",
        "print(f\"Train size: {X_train.shape[0]}, Test size: {X_test.shape[0]}\")\n",
        "\n",
        "# Scale the features so they have 0 mean and a variance of 1. We do this to improve the\n",
        "# prediction performance of the SVM. Details on why this helps are out-of-scope for the course.\n",
        "# Visit https://www.csie.ntu.edu.tw/~cjlin/papers/guide/guide.pdf for more details.\n",
        "scaler = StandardScaler()\n",
        "X_train_scaled = scaler.fit_transform(X_train)\n",
        "X_test_scaled = scaler.transform(X_test)\n",
        "print(f\"Sample before scaling: {X_train[0]}, after scaling: {X_train_scaled[0]}\\n\")\n",
        "\n",
        "############ MODEL INSTANTIATION ############\n",
        "# Create an SVM model\n",
        "svm = SVC()\n",
        "\n",
        "############ MODEL TRAINING ############\n",
        "# Train the model\n",
        "print(\"Fitting model with train data...\")\n",
        "svm.fit(X_train_scaled, y_train)\n",
        "\n",
        "############ MODEL EVAL ############\n",
        "# Make predictions on the test set\n",
        "print(\"Running model on test data...\")\n",
        "y_pred = svm.predict(X_test_scaled)\n",
        "\n",
        "# Evaluate the accuracy of the model\n",
        "accuracy = accuracy_score(y_test, y_pred)\n",
        "print(f\"Accuracy: {100 * accuracy:.2f}%\")"
      ]
    },
    {
      "cell_type": "markdown",
      "id": "e2ca3522-befe-4c95-ac37-b96eb076507a",
      "metadata": {
        "id": "e2ca3522-befe-4c95-ac37-b96eb076507a"
      },
      "source": [
        "_Note: Our trained model achieved 100% accuracy on the test set. However, it's important to remember that, similar to the toy datasets we created earlier, the Iris dataset is much simpler than real world ML problems._"
      ]
    },
    {
      "cell_type": "markdown",
      "id": "fa3fbabc-44a1-4ab2-a25f-2f5d1ffbfbc2",
      "metadata": {
        "id": "fa3fbabc-44a1-4ab2-a25f-2f5d1ffbfbc2"
      },
      "source": [
        "### PyTorch\n",
        "The last package we will introduce is [PyTorch](https://pytorch.org/). PyTorch has gradually become the most popular Python framework for deep learning. PyTorch's value is similar to NumPy, in that it provides a wrapper over C++ code that uses CUDA directly (i.e. the library used to interface with Nvidia GPUs). For example, this allows us to run deep neural networks fast!\n",
        "\n",
        "To illustrate PyTorch, we will show you how to train a simple neural network on the classic [MNIST](http://yann.lecun.com/exdb/mnist/) dataset. Again, don't worry about getting a deep understanding of everything happening here, we will go into more detail later on in the course (e.g. Notebook 3). We just want you to start recognizing the pattern of defining and training models."
      ]
    },
    {
      "cell_type": "code",
      "execution_count": null,
      "id": "e06d6150-af99-44ef-916a-c6e05b15c2da",
      "metadata": {
        "scrolled": true,
        "id": "e06d6150-af99-44ef-916a-c6e05b15c2da",
        "outputId": "5f58c08a-a1f5-4698-84ae-1ee80fe5a0c3"
      },
      "outputs": [
        {
          "name": "stdout",
          "output_type": "stream",
          "text": [
            "Epoch 1/5, Loss: 0.3147\n",
            "Epoch 2/5, Loss: 0.1662\n",
            "Epoch 3/5, Loss: 0.0240\n",
            "Epoch 4/5, Loss: 0.0430\n",
            "Epoch 5/5, Loss: 0.0431\n",
            "Test Accuracy: 97.49%\n"
          ]
        }
      ],
      "source": [
        "import torch\n",
        "import torch.nn as nn\n",
        "import torch.optim as optim\n",
        "from torchvision import datasets, transforms\n",
        "from torch.utils.data import DataLoader\n",
        "\n",
        "############ DATA PREP ############\n",
        "# Define transformations for the dataset\n",
        "transform = transforms.Compose([transforms.ToTensor()])\n",
        "\n",
        "# Load the MNIST dataset\n",
        "train_dataset = datasets.MNIST(root='./data', train=True, transform=transform, download=True)\n",
        "test_dataset = datasets.MNIST(root='./data', train=False, transform=transform, download=True)\n",
        "\n",
        "# Create data loaders\n",
        "train_loader = DataLoader(dataset=train_dataset, batch_size=64, shuffle=True)\n",
        "test_loader = DataLoader(dataset=test_dataset, batch_size=64, shuffle=False)\n",
        "\n",
        "############ MODEL INSTANTIATION ############\n",
        "# Define a simple neural network\n",
        "class SimpleNN(nn.Module):\n",
        "    def __init__(self):\n",
        "        super(SimpleNN, self).__init__()\n",
        "        self.flatten = nn.Flatten()\n",
        "        self.fc1 = nn.Linear(28 * 28, 128)\n",
        "        self.relu = nn.ReLU()\n",
        "        self.fc2 = nn.Linear(128, 10)\n",
        "\n",
        "    def forward(self, x):\n",
        "        x = self.flatten(x)\n",
        "        x = self.fc1(x)\n",
        "        x = self.relu(x)\n",
        "        x = self.fc2(x)\n",
        "        return x\n",
        "\n",
        "model = SimpleNN()\n",
        "\n",
        "############ MODEL TRAINING ############\n",
        "# Instantiate loss function, and optimizer\n",
        "criterion = nn.CrossEntropyLoss()\n",
        "optimizer = optim.Adam(model.parameters(), lr=0.001)\n",
        "\n",
        "# Training loop\n",
        "epochs = 5\n",
        "for epoch in range(epochs):\n",
        "    model.train()\n",
        "    for batch_idx, (data, target) in enumerate(train_loader):\n",
        "        optimizer.zero_grad()\n",
        "        output = model(data)\n",
        "        loss = criterion(output, target)\n",
        "        loss.backward()\n",
        "        optimizer.step()\n",
        "\n",
        "    print(f'Epoch {epoch + 1}/{epochs}, Loss: {loss.item():.4f}')\n",
        "\n",
        "############ MODEL EVAL ############\n",
        "# Evaluation on the test set\n",
        "model.eval()\n",
        "correct, total = 0, 0\n",
        "with torch.no_grad():\n",
        "    for data, target in test_loader:\n",
        "        output = model(data)\n",
        "        _, predicted = torch.max(output, 1)\n",
        "        total += target.size(0)\n",
        "        correct += (predicted == target).sum().item()\n",
        "\n",
        "accuracy = correct / total\n",
        "print(f'Test Accuracy: {100 * accuracy:.2f}%')"
      ]
    },
    {
      "cell_type": "markdown",
      "id": "45eb3f2d-0b19-4657-9545-2b361e39b3d8",
      "metadata": {
        "id": "45eb3f2d-0b19-4657-9545-2b361e39b3d8"
      },
      "source": [
        "_Note: This should take about a minute._"
      ]
    },
    {
      "cell_type": "markdown",
      "id": "2fe272c5-d110-4844-9e6e-221d1d1b70f2",
      "metadata": {
        "id": "2fe272c5-d110-4844-9e6e-221d1d1b70f2"
      },
      "source": [
        "## <a name=\"conclusion\"> Conclusion\n",
        "Thanks for making it all this way! We hope you learned a lot - and more importantly - that you had a bit of fun.\n",
        "\n",
        "To recap, we began with a discussion on learning and intelligence, culminating with the idea of AI systems (what we are trying to build). We then took a closer look at machine learning through the lens of supervised learning. Finally, we introduced some of the tools you will see used throughout the course.\n",
        "\n",
        "The following external resources are great if you want to dive deeper into the fundamentals of ML:\n",
        "1. [Rules of ML](https://martin.zinkevich.org/rules_of_ml/rules_of_ml.pdf) - a \"style guide\" for machine learning.\n",
        "2. [FastAI's Fastbook](https://github.com/fastai/fastbook/blob/master/01_intro.ipynb) - this great resource from FastAI goes deep into deep learning, also via Jupyter Notebooks.\n",
        "3. Coursera's [AI for Everyone](https://www.coursera.org/learn/ai-for-everyone) - for those who like video courses, this Andrew Ng AI beginner course is pretty well regarded.\n",
        "\n",
        "See you in the next one!"
      ]
    }
  ],
  "metadata": {
    "kernelspec": {
      "display_name": "Python 3 (ipykernel)",
      "language": "python",
      "name": "python3"
    },
    "language_info": {
      "codemirror_mode": {
        "name": "ipython",
        "version": 3
      },
      "file_extension": ".py",
      "mimetype": "text/x-python",
      "name": "python",
      "nbconvert_exporter": "python",
      "pygments_lexer": "ipython3",
      "version": "3.11.9"
    },
    "colab": {
      "provenance": [],
      "include_colab_link": true
    }
  },
  "nbformat": 4,
  "nbformat_minor": 5
}